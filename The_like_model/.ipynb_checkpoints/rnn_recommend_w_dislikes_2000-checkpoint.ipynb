{
 "cells": [
  {
   "cell_type": "markdown",
   "metadata": {},
   "source": [
    "<h1><u>RNN thesis</u></h1>\n",
    "<h4>Omer Nivron</h4>\n",
    "15098443"
   ]
  },
  {
   "cell_type": "markdown",
   "metadata": {},
   "source": [
    "<h3>Package loading</h3>"
   ]
  },
  {
   "cell_type": "code",
   "execution_count": 1,
   "metadata": {
    "collapsed": true
   },
   "outputs": [],
   "source": [
    "import numpy as np\n",
    "import sys as sys\n",
    "import random as rd\n",
    "import tensorflow as tf\n",
    "import gzip\n",
    "from __future__ import division\n",
    "from tensorflow.python.ops import array_ops, control_flow_ops\n",
    "import pandas as pd\n",
    "import os\n",
    "import math\n",
    "from __future__ import absolute_import\n",
    "from __future__ import division\n",
    "from __future__ import print_function\n",
    "import time\n",
    "import csv\n"
   ]
  },
  {
   "cell_type": "code",
   "execution_count": null,
   "metadata": {},
   "outputs": [],
   "source": [
    "import numpy as np\n",
    "import boto3\n",
    "import tensorflow as tf\n",
    "import pandas as pd\n",
    "import os\n",
    "import cStringIO\n",
    "! sudo pip install s3fs\n",
    "import s3fs\n",
    "pd.options.display.max_columns = None\n",
    "pd.options.display.max_rows = None"
   ]
  },
  {
   "cell_type": "markdown",
   "metadata": {},
   "source": [
    "### Data creation"
   ]
  },
  {
   "cell_type": "code",
   "execution_count": 3,
   "metadata": {
    "collapsed": true
   },
   "outputs": [],
   "source": [
    "def np_pad_tr_x(x_tr, batch_size, str_idx, zero_array_x, length_vec):\n",
    "    start = 0\n",
    "    for i in range(batch_size):\n",
    "        if i > 0:\n",
    "            end = end + length_vec[i] \n",
    "        else:\n",
    "            end = length_vec[0]\n",
    "        zero_array_x[ int(str_idx[i]) : int(str_idx[i] + length_vec[i]) ] = x_tr[ start : end ] \n",
    "        start = end\n",
    "\n",
    "    return(zero_array_x)"
   ]
  },
  {
   "cell_type": "code",
   "execution_count": 4,
   "metadata": {
    "collapsed": true
   },
   "outputs": [],
   "source": [
    "def range_bet_col_t_col_n_append(col_1 ,col_2):\n",
    "    app_ranges=[]\n",
    "    for i in range(col_1.shape[0]):\n",
    "        single_range = range((col_1[i]).astype(int), (col_2[i]).astype(int))\n",
    "        app_ranges = np.append(app_ranges, single_range)\n",
    "    return(app_ranges)"
   ]
  },
  {
   "cell_type": "code",
   "execution_count": 5,
   "metadata": {
    "collapsed": true
   },
   "outputs": [],
   "source": [
    "def algeb_geom_series(mode ,start ,jump ,length):\n",
    "    u = np.empty((length,))\n",
    "    u[0] = start\n",
    "    u[1:] = jump\n",
    "    if (mode == 0):\n",
    "        series=np.cumsum(u)\n",
    "    if (mode == 1):\n",
    "        series=np.cumprod(u)\n",
    "    return(series)"
   ]
  },
  {
   "cell_type": "code",
   "execution_count": 6,
   "metadata": {
    "collapsed": true
   },
   "outputs": [],
   "source": [
    "def sort_pd_df_by_ext_vec(df,ext_sor_vec, cols):\n",
    "    df_s = df[((df[cols[0]]).astype(int)).isin(ext_sor_vec)] #\n",
    "    df_s['sort_cat'] = pd.Categorical(df_s[cols[0]],categories = ext_sor_vec,ordered = True)\n",
    "    if len(cols) > 1:\n",
    "        df_s.sort_values(['sort_cat',cols[1]] ,inplace = True)\n",
    "    \n",
    "    else:\n",
    "        df_s.sort_values(['sort_cat'],inplace = True) \n",
    "    \n",
    "    df_s.reset_index(inplace = True)\n",
    "    df_ = df_s.drop(['sort_cat','index'] ,axis = 1)\n",
    "    \n",
    "    return(df_)"
   ]
  },
  {
   "cell_type": "code",
   "execution_count": 7,
   "metadata": {
    "collapsed": true
   },
   "outputs": [],
   "source": [
    "def rnn_model(model ,n_hidden ,layers):\n",
    "    if (layers == 1):\n",
    "        if(model == 'lstm'):\n",
    "            cell = tf.nn.rnn_cell.LSTMCell(n_hidden ,state_is_tuple=True)\n",
    "        else:\n",
    "            cell = tf.nn.rnn_cell.GRUCell(n_hidden)   \n",
    "    else:\n",
    "        if(model == 'lstm'):\n",
    "            lstm = tf.nn.rnn_cell.LSTMCell(n_hidden ,state_is_tuple=True)\n",
    "            cell = tf.nn.rnn_cell.MultiRNNCell([lstm]*layers)\n",
    "\n",
    "        else:\n",
    "            gru = tf.nn.rnn_cell.GRUCell(n_hidden)\n",
    "            cell = tf.nn.rnn_cell.MultiRNNCell([gru] * layers)\n",
    "    return(cell)"
   ]
  },
  {
   "cell_type": "markdown",
   "metadata": {},
   "source": [
    "############################################\n"
   ]
  },
  {
   "cell_type": "markdown",
   "metadata": {},
   "source": [
    "Loading Fake Data"
   ]
  },
  {
   "cell_type": "code",
   "execution_count": 8,
   "metadata": {
    "collapsed": true
   },
   "outputs": [],
   "source": [
    "def trainSamples(viewers,videos,probab,viewerFeat,videoFeat,contxFeat):\n",
    "    trData = {} # trData = Dictionary with training data. This is histrory of viewer and video iteraction\n",
    "    X = {} # X  = Dictionary with viewer features as arrays\n",
    "    Y ={} # Y  = Dictionary with video features as arrays\n",
    "    for i in range(viewers):\n",
    "        X[i] = np.random.rand(viewerFeat)\n",
    "        a = 0 # timing of the video for a particular user,... \n",
    "                #to give the order in which the videos have been watched\n",
    "        for j in range(videos):\n",
    "            if int(np.random.binomial(1,probab ,1)[0]):\n",
    "                trData[(i,j,a)] = np.random.rand(contxFeat)\n",
    "                a+=1 # when a video is watched, we increase the value of a by 1 \n",
    "            if i==0:\n",
    "                Y[j] = np.random.rand(videoFeat)\n",
    "    return X,Y,trData"
   ]
  },
  {
   "cell_type": "code",
   "execution_count": 9,
   "metadata": {
    "collapsed": true
   },
   "outputs": [],
   "source": [
    "viewers = 1000  #number of viewers\n",
    "videos =1000  #number of videos\n",
    "probab = 0.05  #probability of a viewer watching any one video\n",
    "viewerFeat = 310  #number of features describing a veiwer\n",
    "videoFeat = 300   #number of features describing a video\n",
    "contxFeat = 15 # number of contextual features\n",
    "# X  = Dictionary with viewer features as arrays\n",
    "# Y  = Dictionary with video features as arrays\n",
    "# trData = Dictionary with training data. This is histrory of viewer and video iteraction\n",
    "X ,Y ,trData = trainSamples(viewers ,videos ,probab ,viewerFeat ,videoFeat ,contxFeat)"
   ]
  },
  {
   "cell_type": "markdown",
   "metadata": {},
   "source": [
    "### transform a dict to numpy array"
   ]
  },
  {
   "cell_type": "code",
   "execution_count": 10,
   "metadata": {
    "collapsed": true
   },
   "outputs": [],
   "source": [
    "user_feat_inp = np.array([X[key] for key in sorted(X.keys())]) \n",
    "vid_feat_inp = np.array([Y[key] for key in sorted(Y.keys())])"
   ]
  },
  {
   "cell_type": "markdown",
   "metadata": {},
   "source": [
    "### Add a column key specifying user"
   ]
  },
  {
   "cell_type": "code",
   "execution_count": 11,
   "metadata": {
    "collapsed": true
   },
   "outputs": [],
   "source": [
    "key_user = np.asarray(range(user_feat_inp.shape[0])).reshape(user_feat_inp.shape[0] ,1)\n",
    "key_vid = np.asarray(range(vid_feat_inp.shape[0])).reshape(vid_feat_inp.shape[0] ,1)\n",
    "user_feat_inp_w_key = np.concatenate((user_feat_inp ,key_user),axis = 1)\n",
    "vid_feat_inp_w_key = np.concatenate((vid_feat_inp ,key_vid),axis = 1)\n",
    "user_vid_time = trData.keys()"
   ]
  },
  {
   "cell_type": "markdown",
   "metadata": {},
   "source": [
    "### transform numpy to pandas df in order to use easy merging"
   ]
  },
  {
   "cell_type": "code",
   "execution_count": 12,
   "metadata": {
    "collapsed": true
   },
   "outputs": [],
   "source": [
    "user_feat_inp_w_key_df = pd.DataFrame(user_feat_inp_w_key) \n",
    "vid_feat_inp_w_key_df = pd.DataFrame(vid_feat_inp_w_key)\n",
    "user_vid_time_df = pd.DataFrame(user_vid_time)"
   ]
  },
  {
   "cell_type": "markdown",
   "metadata": {},
   "source": [
    "## Construct true_y"
   ]
  },
  {
   "cell_type": "markdown",
   "metadata": {},
   "source": [
    "### sort values by user and time watched"
   ]
  },
  {
   "cell_type": "code",
   "execution_count": 13,
   "metadata": {
    "collapsed": true
   },
   "outputs": [],
   "source": [
    "rr = user_vid_time_df.sort_values([0 ,2]).reset_index()"
   ]
  },
  {
   "cell_type": "markdown",
   "metadata": {},
   "source": [
    "### get categorical column for each video with 1 where watched and 0 otherwise"
   ]
  },
  {
   "cell_type": "code",
   "execution_count": 14,
   "metadata": {
    "collapsed": true,
    "scrolled": false
   },
   "outputs": [],
   "source": [
    "h = pd.get_dummies(rr[1],prefix = 'vid_')\n",
    "y_tr_p_w = pd.concat([rr.reset_index(drop = True), h], axis = 1)\n",
    "y_tr_p_w.rename(columns = {0: 'user'}, inplace = True)\n",
    "y_tr_p_w.rename(columns = {1: 'mov'}, inplace = True)\n",
    "y_tr_p_w.rename(columns = {2: 'rank'}, inplace = True)\n",
    "y_tr_p_w['desired'] = np.argmax(np.array(y_tr_p_w.iloc[:,4:]) ,1)"
   ]
  },
  {
   "cell_type": "markdown",
   "metadata": {},
   "source": [
    "### We get for each user one row with 1's in the positions watched incl. user column(0) "
   ]
  },
  {
   "cell_type": "code",
   "execution_count": 15,
   "metadata": {
    "collapsed": true
   },
   "outputs": [],
   "source": [
    "max_watch = (y_tr_p_w.groupby('user',axis = 0).sum().iloc[:\n",
    "                                ,int(np.array(np.where(y_tr_p_w.columns=='rank'))):-1].sum(axis=1)).reset_index()"
   ]
  },
  {
   "cell_type": "markdown",
   "metadata": {},
   "source": [
    "### Merge two pandas df "
   ]
  },
  {
   "cell_type": "code",
   "execution_count": 16,
   "metadata": {
    "collapsed": true
   },
   "outputs": [],
   "source": [
    "vid_feat_inp_w_key_df.rename(columns = {300: 'mov_id'}, inplace = True)\n",
    "user_feat_inp_w_key_df.rename(columns = {310: 'user_id'}, inplace = True)\n",
    "user_vid_time_df.rename(columns = {0: 'user_id'}, inplace = True)\n",
    "user_vid_time_df.rename(columns = {1: 'mov_id'}, inplace = True)\n",
    "user_w_vid_tim_and_feat = user_vid_time_df.merge(user_feat_inp_w_key_df \n",
    "                                                 ,how = 'inner',on = 'user_id', sort = False)\n",
    "user_vid_time_vidfeat_usefit = user_w_vid_tim_and_feat.merge(vid_feat_inp_w_key_df \n",
    "                                                             ,how = 'inner' ,on='mov_id' ,sort = False)\n",
    "user_vid_time_vidfeat_usefit.rename(columns={'2_x': 'time_watch'} ,inplace=True)\n",
    "user_vid_time_vidfeat_usefit_sorted = user_vid_time_vidfeat_usefit.sort_values(['user_id', 'time_watch']) \n"
   ]
  },
  {
   "cell_type": "code",
   "execution_count": null,
   "metadata": {
    "collapsed": true
   },
   "outputs": [],
   "source": [
    "user_vid_time_vidfeat_usefit_sorted_dis = user_vid_time_vidfeat_usefit_sorted"
   ]
  },
  {
   "cell_type": "markdown",
   "metadata": {},
   "source": [
    "### Split training and testing data"
   ]
  },
  {
   "cell_type": "code",
   "execution_count": 17,
   "metadata": {
    "collapsed": true
   },
   "outputs": [],
   "source": [
    "tr_users = viewers * 0.8\n",
    "tr_y = y_tr_p_w[y_tr_p_w['user'] < tr_users]\n",
    "te_y = y_tr_p_w[~y_tr_p_w['user'].isin(tr_y['user'])]"
   ]
  },
  {
   "cell_type": "markdown",
   "metadata": {},
   "source": [
    "################################################"
   ]
  },
  {
   "cell_type": "markdown",
   "metadata": {},
   "source": [
    "##################################################"
   ]
  },
  {
   "cell_type": "markdown",
   "metadata": {},
   "source": [
    "<h2>Configurations</h2>"
   ]
  },
  {
   "cell_type": "code",
   "execution_count": 46,
   "metadata": {
    "collapsed": true
   },
   "outputs": [],
   "source": [
    "tf.reset_default_graph()"
   ]
  },
  {
   "cell_type": "markdown",
   "metadata": {},
   "source": [
    "<h3>LSTM with X units</h3>"
   ]
  },
  {
   "cell_type": "code",
   "execution_count": 47,
   "metadata": {
    "collapsed": true
   },
   "outputs": [],
   "source": [
    "n_opt_epoch = 1000\n",
    "model = 'lstm'\n",
    "layers = 1\n",
    "n_samples = 2000\n",
    "top_k = 15\n",
    "top_l = 10\n",
    "top_r = 5\n",
    "fixed = 10\n",
    "top_all = 2000\n",
    "n_users = num_users\n",
    "te_users = int(np.ceil(num_users*0.2))\n",
    "n_feature = num_user_feat + num_video_feat + contex_feat #623\n",
    "n_feature_dis = num_video_feat\n",
    "lr_rat = 0.01\n",
    "num_video = h.shape[1]\n",
    "beta = 0.01\n",
    "\n",
    "if tr_users > 500:\n",
    "    batch_size = 500\n",
    "else:\n",
    "    batch_size  = tr_users\n",
    "        \n",
    "n_hidden = 64 # hidden layer num of features\n",
    "n_hidden_dis = 64 "
   ]
  },
  {
   "cell_type": "markdown",
   "metadata": {},
   "source": [
    "Tensorboard saving paths"
   ]
  },
  {
   "cell_type": "code",
   "execution_count": 48,
   "metadata": {
    "collapsed": true
   },
   "outputs": [],
   "source": [
    "! mkdir -p ./reco_rnn/tensor_plot/dis_2000/\n",
    "! mkdir -p ./reco_rnn/dis_2000/\n",
    "#logs_path = \"/Users/onivron/Desktop/reco_rnn/tensor_plot/p_w/\"\n",
    "logs_path = \"./reco_rnn/tensor_plot/dis_2000/\""
   ]
  },
  {
   "cell_type": "markdown",
   "metadata": {},
   "source": [
    "<h3>Var creation</h3>\n",
    "We build data placeholders & variables "
   ]
  },
  {
   "cell_type": "code",
   "execution_count": 49,
   "metadata": {
    "collapsed": true
   },
   "outputs": [],
   "source": [
    "with tf.name_scope('input'):\n",
    "    dislike_inp = tf.placeholder(\"float32\" ,[batch_size ,fixed, n_feature_dis] ,name = 'dislike_inp') \n",
    "    dynam_input = tf.placeholder(\"float32\" ,[batch_size ,None, n_feature] ,name = 'dynam_input') \n",
    "    y_true = tf.placeholder(\"int32\",[None, 1] ,name = 'Input_y')\n",
    "    max_batch_length = tf.placeholder(\"float32\" ,[batch_size] ,name = 'max_leng')\n",
    "    tr_rw = tf.placeholder(\"int32\" ,[None, 1] ,name = '_rw')\n",
    "    tr_rw_n_desired_rep = tf.placeholder(\"int32\" ,[None, 2] ,name = 'rw_rep')\n",
    "    tr_rw_non_rep = tf.placeholder(\"int32\" ,[None, 2] ,name = 'non_rep')\n",
    "    \n",
    "with tf.name_scope(\"weights\"):\n",
    "    W = {'out_1': tf.Variable(tf.random_normal([1500 ,num_video])  ,name = 'out_1'),\n",
    "        'out_2': tf.Variable(tf.random_normal([n_hidden ,num_video]) ,name = 'w_2') , \n",
    "        'dis': tf.Variable(tf.random_normal([fixed * n_feature_dis, 2000])  ,name = 'dis'),\n",
    "        'dis_2': tf.Variable(tf.random_normal([2000 ,1500])  ,name = 'dis_2')}\n",
    "    \n",
    "with tf.name_scope(\"biases\"):\n",
    "    b = {'out_1': tf.Variable(tf.random_normal([num_video]) ,name = 'b_1'),\n",
    "        'out_2': tf.Variable(tf.random_normal([num_video]) ,name = 'b_2') , \n",
    "        'dis': tf.Variable(tf.random_normal([2000])  ,name = 'b_dis'),\n",
    "        'dis_2': tf.Variable(tf.random_normal([1500])  ,name = 'b_dis_2')}"
   ]
  },
  {
   "cell_type": "markdown",
   "metadata": {},
   "source": [
    "<h3>Define model</h3>"
   ]
  },
  {
   "cell_type": "code",
   "execution_count": 50,
   "metadata": {
    "collapsed": true
   },
   "outputs": [],
   "source": [
    "def RNN(dynam_input, dislike_inp \n",
    "        ,max_batch_length\n",
    "         ,W ,b ,model):\n",
    "    \n",
    "    lstm_cell = rnn_model(model ,n_hidden ,layers)\n",
    "    \n",
    "    outputs ,states = tf.nn.dynamic_rnn(lstm_cell ,inputs = dynam_input\n",
    "                                     ,dtype = tf.float32 ,sequence_length = max_batch_length)\n",
    "    \n",
    "    \n",
    "    out_shaped = tf.reshape(outputs ,[-1 ,n_hidden])\n",
    "    \n",
    "    dislike_layer = (tf.matmul(tf.reshape(dislike_inp, [-1, fixed * n_feature_dis]) \n",
    "                                         , W['dis']) + b['dis']) \n",
    "    \n",
    "    dislike_layer_embeded = tf.nn.relu(tf.matmul(dislike_layer ,W['dis_2']) + b['dis_2']) \n",
    "    \n",
    "    dislike_score = tf.nn.relu(tf.matmul(dislike_layer_embeded, W['out_1']) + b['out_1']) \n",
    "    \n",
    "    like_score = tf.reshape((tf.matmul(out_shaped ,W['out_2']) + b['out_2']), [-1, batch_size ,num_video])\n",
    "    \n",
    "    layer_3 = dislike_score + like_score\n",
    "    \n",
    "    relative_like = tf.divide(like_score, layer_3)\n",
    "    \n",
    "    return (relative_like, dislike_score, like_score, layer_3) "
   ]
  },
  {
   "cell_type": "markdown",
   "metadata": {},
   "source": [
    "<h3>Define loss, accuracy & optimizer</h3>"
   ]
  },
  {
   "cell_type": "code",
   "execution_count": 51,
   "metadata": {
    "collapsed": true
   },
   "outputs": [],
   "source": [
    "_relative_like, _dislike_score, _like_score, y_pred  = RNN(dynam_input, dislike_inp, max_batch_length, W, b, model)\n",
    "\n",
    "with tf.name_scope('like_facotr'):\n",
    "    like_factor = tf.gather_nd(params = tf.reshape(_relative_like, [-1, num_video]), indices = tr_rw_non_rep)\n",
    "\n",
    "with tf.name_scope('bpr_max'):\n",
    "    target_ind = tf.gather_nd(params = tf.reshape(y_pred, [-1, num_video]), indices = tr_rw_n_desired_rep)\n",
    "    relevant_y_pred = tf.reshape(tf.gather(params = tf.reshape(y_pred\n",
    "                                                    , [-1 ,num_video]), indices = tr_rw), [-1, num_video])\n",
    "    top_neg_vals, top_neg_indice = tf.nn.top_k(relevant_y_pred, n_samples)\n",
    "    softmax_scores = tf.reshape(tf.nn.softmax(top_neg_vals),[-1])\n",
    "    \n",
    "    \n",
    "    loss = (-(tf.reduce_sum(tf.multiply(tf.log(tf.sigmoid(tf.subtract(target_ind\n",
    "                                                            , tf.reshape(top_neg_vals, [-1]))))\n",
    "                                                            ,softmax_scores))))\n",
    "    regularizer_1 = tf.nn.l2_loss(tf.abs(W['out_2']))\n",
    "    regularizer_2 = tf.nn.l2_loss(tf.abs(W['out_1'])) \n",
    "    regularizer_3 = tf.nn.l2_loss(tf.abs(W['dis_2'])) \n",
    "    regularizer_4 =  tf.nn.l2_loss(tf.abs(W['dis']))\n",
    "    p_wise = tf.reduce_mean(loss + beta * regularizer_1+ beta * regularizer_2+ beta * regularizer_3+ beta * regularizer_4)\n",
    "\n",
    "with tf.name_scope('Accuracy_top_r'):\n",
    "    top_15_indx_r = tf.slice(top_neg_indice,[0,0],[-1, top_r])\n",
    "    to_bool_r = tf.reduce_sum(tf.cast(tf.equal(y_true, top_15_indx_r), tf.float32), 1)\n",
    "    accuracy_r = tf.reduce_mean(to_bool_r)   \n",
    "    \n",
    "with tf.name_scope('Accuracy_top_l'):\n",
    "    top_15_indx_l = tf.slice(top_neg_indice,[0,0],[-1, top_l])\n",
    "    to_bool_l = tf.reduce_sum(tf.cast(tf.equal(y_true, top_15_indx_l), tf.float32), 1)\n",
    "    accuracy_l = tf.reduce_mean(to_bool_l)\n",
    "    \n",
    "with tf.name_scope('Accuracy_top_k'):\n",
    "    top_15_indx_k = tf.slice(top_neg_indice,[0,0],[-1,top_k])\n",
    "    to_bool_k = tf.reduce_sum(tf.cast(tf.equal(y_true, top_15_indx_k), tf.float32), 1)\n",
    "    accuracy_k = tf.reduce_mean(to_bool_k)\n",
    "\n",
    "#with tf.name_scope('mean_reciprocal_rank'):\n",
    "#    user_pred_all = tf.reshape(tf.gather(params = top_neg_indice_all, indices= user_desire), [-1,num_video])\n",
    "#    to_cast = tf.cast(tf.equal(user_desire[1:, :], user_pred_all[:-1, :]), tf.float32)\n",
    "#    to_where = (tf.where(tf.equal(to_cast, tf.ones(shape=[tf.shape(to_cast)[0], 1]))))[:,1]"
   ]
  },
  {
   "cell_type": "code",
   "execution_count": 52,
   "metadata": {
    "collapsed": true
   },
   "outputs": [],
   "source": [
    "with tf.name_scope('train'):    \n",
    "    optimizer = tf.train.AdamOptimizer(learning_rate = lr_rat).minimize(p_wise)"
   ]
  },
  {
   "cell_type": "markdown",
   "metadata": {},
   "source": [
    "<h3>Tensorboard set-up</h3>"
   ]
  },
  {
   "cell_type": "code",
   "execution_count": 53,
   "metadata": {
    "collapsed": true,
    "scrolled": true
   },
   "outputs": [],
   "source": [
    "tf.summary.scalar(\"cost\" ,p_wise)\n",
    "#tf.summary.scalar(\"mrr\" ,mrr)\n",
    "tf.summary.scalar(\"Accuracy_top_r\", accuracy_r)\n",
    "tf.summary.scalar(\"Accuracy_top_k\", accuracy_k)\n",
    "tf.summary.scalar(\"Accuracy_top_l\", accuracy_l)\n",
    "\n",
    "summary_op = tf.summary.merge_all()\n",
    "writer_opt = tf.summary.FileWriter(logs_path ,graph = tf.get_default_graph())\n",
    "saver = tf.train.Saver(write_version = tf.train.SaverDef.V2)"
   ]
  },
  {
   "cell_type": "markdown",
   "metadata": {},
   "source": [
    "<h2>Training - optimization</h2>"
   ]
  },
  {
   "cell_type": "code",
   "execution_count": 54,
   "metadata": {
    "collapsed": true
   },
   "outputs": [],
   "source": [
    "init = tf.global_variables_initializer()\n",
    "sess = tf.Session() \n",
    "sess.run(init)"
   ]
  },
  {
   "cell_type": "code",
   "execution_count": 36,
   "metadata": {
    "collapsed": true
   },
   "outputs": [],
   "source": [
    "#! mkdir -p ./reco_rnn/pair_cost/"
   ]
  },
  {
   "cell_type": "code",
   "execution_count": 44,
   "metadata": {},
   "outputs": [
    {
     "name": "stdout",
     "output_type": "stream",
     "text": [
      "INFO:tensorflow:Restoring parameters from ./reco_rnn/dis_2000/accu\n"
     ]
    }
   ],
   "source": [
    "save_MDir = './reco_rnn/dis_2000/'\n",
    "save_model = os.path.join(save_MDir,'accu')\n",
    "sess=tf.Session() \n",
    "sess.run(tf.global_variables_initializer())\n",
    "saver.restore(sess = sess, save_path= save_model)"
   ]
  },
  {
   "cell_type": "code",
   "execution_count": null,
   "metadata": {
    "scrolled": false
   },
   "outputs": [
    {
     "name": "stderr",
     "output_type": "stream",
     "text": [
      "/usr/lib/python2.7/dist-packages/ipykernel_launcher.py:3: SettingWithCopyWarning: \n",
      "A value is trying to be set on a copy of a slice from a DataFrame.\n",
      "Try using .loc[row_indexer,col_indexer] = value instead\n",
      "\n",
      "See the caveats in the documentation: http://pandas.pydata.org/pandas-docs/stable/indexing.html#indexing-view-versus-copy\n",
      "  This is separate from the ipykernel package so we can avoid doing imports until\n",
      "/usr/lib/python2.7/dist-packages/ipykernel_launcher.py:5: SettingWithCopyWarning: \n",
      "A value is trying to be set on a copy of a slice from a DataFrame\n",
      "\n",
      "See the caveats in the documentation: http://pandas.pydata.org/pandas-docs/stable/indexing.html#indexing-view-versus-copy\n",
      "  \"\"\"\n",
      "/usr/lib/python2.7/dist-packages/ipykernel_launcher.py:8: SettingWithCopyWarning: \n",
      "A value is trying to be set on a copy of a slice from a DataFrame\n",
      "\n",
      "See the caveats in the documentation: http://pandas.pydata.org/pandas-docs/stable/indexing.html#indexing-view-versus-copy\n",
      "  \n",
      "/usr/lib/python2.7/dist-packages/ipykernel_launcher.py:26: FutureWarning: reshape is deprecated and will raise in a subsequent release. Please use .values.reshape(...) instead\n",
      "/usr/lib/python2.7/dist-packages/ipykernel_launcher.py:35: FutureWarning: reshape is deprecated and will raise in a subsequent release. Please use .values.reshape(...) instead\n"
     ]
    },
    {
     "name": "stdout",
     "output_type": "stream",
     "text": [
      "epoch number: 0 loss: nan accuracy 15: 0.00202533\n",
      "epoch number: 0 accuracy 10: 0.00128658\n",
      "epoch number: 0 accuracy 5: 0.000680645\n",
      "epoch number: 0 loss: nan accuracy 15: 0.00199092\n",
      "epoch number: 0 accuracy 10: 0.00165631\n",
      "epoch number: 0 accuracy 5: 0.000953632\n",
      "epoch number: 0 loss: nan accuracy 15: 0.00214404\n",
      "epoch number: 0 accuracy 10: 0.00174669\n",
      "epoch number: 0 accuracy 5: 0.000993378\n",
      "epoch number: 10 loss: nan accuracy 15: 0.00224568\n",
      "epoch number: 10 accuracy 10: 0.00180148\n",
      "epoch number: 10 accuracy 5: 0.00098711\n",
      "epoch number: 10 loss: nan accuracy 15: 0.00212762\n",
      "epoch number: 10 accuracy 10: 0.00172038\n",
      "epoch number: 10 accuracy 5: 0.000872658\n",
      "epoch number: 10 loss: nan accuracy 15: 0.00223022\n",
      "epoch number: 10 accuracy 10: 0.00175466\n",
      "epoch number: 10 accuracy 5: 0.000942924\n",
      "epoch number: 20 loss: nan accuracy 15: 0.00219247\n",
      "epoch number: 20 accuracy 10: 0.00172385\n",
      "epoch number: 20 accuracy 5: 0.000937239\n",
      "epoch number: 20 loss: nan accuracy 15: 0.00205844\n",
      "epoch number: 20 accuracy 10: 0.00172086\n",
      "epoch number: 20 accuracy 5: 0.000955118\n",
      "epoch number: 20 loss: nan accuracy 15: 0.00208564\n",
      "epoch number: 20 accuracy 10: 0.00168679\n",
      "epoch number: 20 accuracy 5: 0.000922333\n",
      "epoch number: 30 loss: nan accuracy 15: 0.00207756\n",
      "epoch number: 30 accuracy 10: 0.00171734\n",
      "epoch number: 30 accuracy 5: 0.00091312\n",
      "epoch number: 30 loss: nan accuracy 15: 0.00210762\n",
      "epoch number: 30 accuracy 10: 0.00170933\n",
      "epoch number: 30 accuracy 5: 0.000987429\n",
      "epoch number: 30 loss: nan accuracy 15: 0.0021\n",
      "epoch number: 30 accuracy 10: 0.001675\n",
      "epoch number: 30 accuracy 5: 0.000975\n"
     ]
    }
   ],
   "source": [
    "with open('dis_2000.csv', 'wb') as csvfile:\n",
    "    wr = csv.writer(csvfile, delimiter='\\t', lineterminator='\\n')\n",
    "    for epoch in range(int(n_opt_epoch)):\n",
    "        if(epoch != 0):\n",
    "            writer_opt.add_summary(summary ,epoch)\n",
    "        for batch_n in range(int(n_users / batch_size)):\n",
    "            rw_to_chose = np.random.choice((tr_likes[\"user_id\"].unique()) ,batch_size ,replace = False)\n",
    "            x_tr = sort_pd_df_by_ext_vec(tr_likes\n",
    "                                         , rw_to_chose, cols = ['user_id','rank'])\n",
    "            x_tr_dis = sort_pd_df_by_ext_vec(train_dislike\n",
    "                                         , rw_to_chose, cols = ['user_id','rank'])\n",
    "            y_batch = sort_pd_df_by_ext_vec(tr_y ,rw_to_chose,cols = ['user_id','rank'])\n",
    "            length_vec = sort_pd_df_by_ext_vec(df = max_watch ,ext_sor_vec = rw_to_chose ,cols = ['user_id']) \n",
    "            length_max = max(length_vec.iloc[:,1])\n",
    "            str_idx = algeb_geom_series(0 ,start = 0 ,jump = length_max ,length = batch_size)\n",
    "            end_idx = np.append(length_vec.iloc[0, 1], length_vec.iloc[1:, 1:] + str_idx[1:].reshape(batch_size-1, -1))\n",
    "            app_range = range_bet_col_t_col_n_append(str_idx, end_idx)\n",
    "            trial_size = (int(batch_size * length_max), n_feature)\n",
    "            trial_size_dis = (int(batch_size * fixed), n_feature_dis)\n",
    "            zero_array_x = np.zeros(trial_size) \n",
    "            zero_array_x_dis = np.zeros(trial_size_dis)\n",
    "            _x_tr = np_pad_tr_x(x_tr.iloc[:,3:], batch_size, str_idx.astype(int),\n",
    "                                            zero_array_x, length_vec.iloc[:,1].astype(int))\n",
    "\n",
    "            rep_ind = np.concatenate((np.repeat(app_range, n_samples).reshape(-1, 1)\n",
    "                                      , np.repeat(y_batch['desired'], n_samples).reshape(-1, 1)), axis = 1)\n",
    "\n",
    "            (acc_r, acc_l ,acc_k, p_wise_cost, _, summary) = sess.run([accuracy_r, accuracy_l\n",
    "                                                                                  , accuracy_k, p_wise \n",
    "                                                                                  ,optimizer, summary_op]\n",
    "                                                      ,feed_dict = {dynam_input: _x_tr.reshape(batch_size, -1, n_feature)\n",
    "                                                      ,dislike_inp: np.array(x_tr_dis.iloc[:,3:]).reshape(batch_size, -1, n_feature_dis)\n",
    "                                                      ,tr_rw_n_desired_rep: rep_ind\n",
    "                                                      ,tr_rw : app_range.reshape(-1, 1) \n",
    "                                                      ,y_true: y_batch['desired'].reshape(-1, 1)\n",
    "                                                      ,max_batch_length: length_vec.iloc[:, 1]})\n",
    "            wr.writerow([acc_r])\n",
    "            wr.writerow([acc_l])\n",
    "            wr.writerow([acc_k])\n",
    "            #wr.writerow([tr_mrr])\n",
    "            if (epoch%10 == 0):\n",
    "                print('epoch number:', epoch, 'loss:', p_wise_cost, 'accuracy 15:', acc_k)\n",
    "                print('epoch number:', epoch, 'accuracy 10:', acc_l)\n",
    "                print('epoch number:', epoch, 'accuracy 5:', acc_r)\n",
    "\n",
    "\n",
    "        folder = './reco_rnn/dis_2000/'\n",
    "        save_path = saver.save(sess, folder + 'accu')"
   ]
  },
  {
   "cell_type": "markdown",
   "metadata": {},
   "source": [
    "# testing"
   ]
  },
  {
   "cell_type": "code",
   "execution_count": null,
   "metadata": {
    "collapsed": true
   },
   "outputs": [],
   "source": [
    "rw_to_chose = np.random.choice(range(int(tr_users), n_users)\n",
    "                               , n_users - int(tr_users), replace = False)\n",
    "x_tr = sort_pd_df_by_ext_vec(user_vid_time_vidfeat_usefit_sorted\n",
    "                             , rw_to_chose, cols = ['user_id','time_watch'])\n",
    "x_tr_dis = sort_pd_df_by_ext_vec(user_vid_time_vidfeat_usefit_sorted_dis\n",
    "                             , rw_to_chose, cols = ['user_id','time_watch'])\n",
    "y_batch = sort_pd_df_by_ext_vec(te_y ,rw_to_chose,cols = ['user','rank'])\n",
    "length_vec = sort_pd_df_by_ext_vec(df = max_watch ,ext_sor_vec = rw_to_chose ,cols = ['user']) \n",
    "length_max = max(length_vec.iloc[:,1])\n",
    "str_idx = algeb_geom_series(0 ,start = 0 ,jump = length_max ,length = batch_size)\n",
    "end_idx = np.append(length_vec.iloc[0, 1], length_vec.iloc[1:, 1:] + str_idx[1:].reshape(batch_size-1, -1))\n",
    "app_range = range_bet_col_t_col_n_append(str_idx, end_idx)\n",
    "trial_size = (int(batch_size * length_max), n_feature)\n",
    "zero_array_x = np.zeros(trial_size) ; zero_array_x_dis = np.zeros(trial_size)\n",
    "_x_tr = np_pad_tr_x(x_tr.iloc[:,3:], batch_size, str_idx.astype(int),\n",
    "                                zero_array_x, length_vec.iloc[:,1].astype(int))\n",
    "_x_tr_dis = np_pad_tr_x(x_tr_dis.iloc[:,3:], batch_size, str_idx.astype(int),\n",
    "                                zero_array_x_dis, length_vec.iloc[:,1].astype(int))  \n",
    "rep_ind = np.concatenate((np.repeat(app_range, n_samples).reshape(-1, 1)\n",
    "                          , np.repeat(y_batch['desired'], n_samples).reshape(-1, 1)), axis = 1)\n",
    "non_rep = np.concatenate((app_range).reshape(-1, 1)\n",
    "                          , (y_batch['desired']).reshape(-1, 1), axis = 1)\n",
    "correct_inco, lik_fac, rel_lik, dis, lik, test_accuracy_r, test_accuracy_l ,test_accuracy_k, test_mrr, test_user_acc, \n",
    "test_loss  = sess.run([to_bool_k, like_factor, _relative_like, _dislike_score, _like_score, accuracy_r, accuracy_l , accuracy_k, mrr, to_bool_user, p_wise]\n",
    "                                          ,feed_dict = {dynam_input: _x_tr.reshape(batch_size, -1, n_feature)\n",
    "                                          ,dislike_inp: _x_tr_dis.reshape(batch_size, -1, n_feature)\n",
    "                                          ,tr_rw_n_desired_rep: rep_ind\n",
    "                                          ,tr_rw_non_rep: non_rep  \n",
    "                                          ,tr_rw : app_range.reshape(-1, 1) \n",
    "                                          ,y_true: y_batch['desired'].reshape(-1, 1)\n",
    "                                          ,max_batch_length: length_vec.iloc[:, 1]})\n",
    "\n",
    "print('accuracy top 5:', test_accuracy_r) \n",
    "print('accuracy top 10:', test_accuracy_l) \n",
    "print('accuracy top 15:', test_accuracy_k) "
   ]
  },
  {
   "cell_type": "code",
   "execution_count": null,
   "metadata": {
    "collapsed": true
   },
   "outputs": [],
   "source": [
    "data = {}\n",
    "for user in range(n_users): \n",
    "    user_like_fac = lik_fac[str_idx[user] : end_idx[user]].reshape(-1, 1)\n",
    "    user_cor_inco = correct_inco[str_idx[user] : end_idx[user]].reshape(-1, 1)\n",
    "    data{user} = user_like_fac * user_cor_inco"
   ]
  },
  {
   "cell_type": "code",
   "execution_count": null,
   "metadata": {
    "collapsed": true
   },
   "outputs": [],
   "source": [
    "from matplotlib import pyplot as plt\n",
    "heatmap = plt.pcolor(data{}, cmap=matplotlib.cm.Blues)"
   ]
  },
  {
   "cell_type": "markdown",
   "metadata": {},
   "source": [
    "<h3>End session</h3>"
   ]
  },
  {
   "cell_type": "code",
   "execution_count": null,
   "metadata": {
    "collapsed": true
   },
   "outputs": [],
   "source": [
    "sess.close()"
   ]
  }
 ],
 "metadata": {
  "anaconda-cloud": {},
  "kernelspec": {
   "display_name": "Python 2",
   "language": "python",
   "name": "python2"
  },
  "language_info": {
   "codemirror_mode": {
    "name": "ipython",
    "version": 2
   },
   "file_extension": ".py",
   "mimetype": "text/x-python",
   "name": "python",
   "nbconvert_exporter": "python",
   "pygments_lexer": "ipython2",
   "version": "2.7.10"
  }
 },
 "nbformat": 4,
 "nbformat_minor": 1
}
