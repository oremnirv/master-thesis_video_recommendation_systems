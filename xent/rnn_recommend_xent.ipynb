{
 "cells": [
  {
   "cell_type": "markdown",
   "metadata": {},
   "source": [
    "<h1><u>RNN with cross-entropy loss</u></h1>\n",
    "<h4>Omer Nivron</h4>\n"
   ]
  },
  {
   "cell_type": "markdown",
   "metadata": {},
   "source": [
    "<h2>Package loading</h2>"
   ]
  },
  {
   "cell_type": "code",
   "execution_count": 1,
   "metadata": {},
   "outputs": [],
   "source": [
    "import numpy as np\n",
    "import sys as sys\n",
    "import random as rd\n",
    "import tensorflow as tf\n",
    "import gzip\n",
    "from __future__ import division\n",
    "import pandas as pd\n",
    "import os\n",
    "import math\n",
    "from __future__ import absolute_import\n",
    "from __future__ import division\n",
    "from __future__ import print_function\n",
    "import time\n",
    "import csv"
   ]
  },
  {
   "cell_type": "markdown",
   "metadata": {},
   "source": [
    "# Data creation"
   ]
  },
  {
   "cell_type": "code",
   "execution_count": 2,
   "metadata": {},
   "outputs": [],
   "source": [
    "def range_bet_col_t_col_n_append(col_1 ,col_2):\n",
    "    app_ranges=[]\n",
    "    for i in range(col_1.shape[0]):\n",
    "        single_range = range((col_1[i]).astype(int), (col_2[i]).astype(int))\n",
    "        app_ranges = np.append(app_ranges, single_range)\n",
    "    return(app_ranges)"
   ]
  },
  {
   "cell_type": "code",
   "execution_count": 3,
   "metadata": {},
   "outputs": [],
   "source": [
    "def sort_pd_df_by_ext_vec(df, ext_sor_vec, cols):\n",
    "    df_s = df[((df[cols[0]]).astype(int)).isin(ext_sor_vec)] #\n",
    "    df_s['sort_cat'] = pd.Categorical(df_s[cols[0]],categories = ext_sor_vec,ordered = True)\n",
    "    if len(cols) > 1:\n",
    "        df_s.sort_values(['sort_cat',cols[1]] ,inplace = True)\n",
    "    \n",
    "    else:\n",
    "        df_s.sort_values(['sort_cat'],inplace = True) \n",
    "    \n",
    "    df_s.reset_index(inplace = True)\n",
    "    df_ = df_s.drop(['sort_cat','index'] ,axis = 1)\n",
    "    \n",
    "    return(df_)"
   ]
  },
  {
   "cell_type": "code",
   "execution_count": 4,
   "metadata": {},
   "outputs": [],
   "source": [
    "def rnn_model(model,n_hidden,layers):\n",
    "        # Define a lstm/GRU cell with tensorflow\n",
    "    if (layers==1):\n",
    "        if(model=='lstm'):\n",
    "            cell=tf.nn.rnn_cell.LSTMCell(n_hidden,state_is_tuple=True)\n",
    "        else:\n",
    "            cell=tf.nn.rnn_cell.GRUCell(n_hidden)   \n",
    "    else:\n",
    "        if(model=='lstm'):\n",
    "            lstm=tf.nn.rnn_cell.LSTMCell(n_hidden,state_is_tuple=True)\n",
    "            cell=tf.nn.rnn_cell.MultiRNNCell([lstm]*layers)\n",
    "\n",
    "        else:\n",
    "            gru=tf.nn.rnn_cell.GRUCell(n_hidden)\n",
    "            cell=tf.nn.rnn_cell.MultiRNNCell([gru]*layers)\n",
    "    return(cell)"
   ]
  },
  {
   "cell_type": "code",
   "execution_count": 5,
   "metadata": {},
   "outputs": [],
   "source": [
    "def algeb_geom_series(mode ,start ,jump ,length):\n",
    "    u = np.empty((length,))\n",
    "    u[0] = start\n",
    "    u[1:] = jump\n",
    "    if (mode == 0):\n",
    "        series=np.cumsum(u)\n",
    "    if (mode == 1):\n",
    "        series=np.cumprod(u)\n",
    "    return(series)"
   ]
  },
  {
   "cell_type": "code",
   "execution_count": 6,
   "metadata": {},
   "outputs": [],
   "source": [
    "def np_pad_tr_x(x_tr, batch_size, str_idx, zero_array_x, length_vec):\n",
    "    start = 0\n",
    "    for i in range(batch_size):\n",
    "        if i > 0:\n",
    "            end = end + length_vec[i] \n",
    "        else:\n",
    "            end = length_vec[0]\n",
    "        zero_array_x[ str_idx[i] : (str_idx[i] + length_vec[i]) ] = x_tr[ start : end ] \n",
    "        start = end\n",
    "\n",
    "    return(zero_array_x)"
   ]
  },
  {
   "cell_type": "markdown",
   "metadata": {},
   "source": [
    "####################################################"
   ]
  },
  {
   "cell_type": "markdown",
   "metadata": {},
   "source": [
    "Loading Fake data"
   ]
  },
  {
   "cell_type": "code",
   "execution_count": 7,
   "metadata": {},
   "outputs": [],
   "source": [
    "def trainSamples(viewers,videos,probab,viewerFeat,videoFeat,contxFeat):\n",
    "    trData = {} # trData = Dictionary with training data. This is histrory of viewer and video iteraction\n",
    "    X = {} # X  = Dictionary with viewer features as arrays\n",
    "    Y ={} # Y  = Dictionary with video features as arrays\n",
    "    for i in range(viewers):\n",
    "        X[i] = np.random.rand(viewerFeat)\n",
    "        a = 0 # timing of the video for a particular user,... \n",
    "                #to give the order in which the videos have been watched\n",
    "        for j in range(videos):\n",
    "            if int(np.random.binomial(1,probab ,1)[0]):\n",
    "                trData[(i,j,a)] = np.random.rand(contxFeat)\n",
    "                a+=1 # when a video is watched, we increase the value of a by 1 \n",
    "            if i==0:\n",
    "                Y[j] = np.random.rand(videoFeat)\n",
    "    return X,Y,trData"
   ]
  },
  {
   "cell_type": "code",
   "execution_count": 8,
   "metadata": {},
   "outputs": [],
   "source": [
    "viewers = 1000  #number of viewers\n",
    "videos = 1000  #number of videos\n",
    "probab = 0.3  #probability of a viewer watching any one video\n",
    "viewerFeat = 310  #number of features describing a veiwer\n",
    "videoFeat = 300   #number of features describing a video\n",
    "contxFeat = 15 # number of contextual features\n",
    "# X  = Dictionary with viewer features as arrays\n",
    "# Y  = Dictionary with video features as arrays\n",
    "# trData = Dictionary with training data. This is histrory of viewer and video iteraction\n",
    "X, Y, trData = trainSamples(viewers, videos, probab, viewerFeat, videoFeat, contxFeat)"
   ]
  },
  {
   "cell_type": "markdown",
   "metadata": {},
   "source": [
    "### Uncomment only when real data is available "
   ]
  },
  {
   "cell_type": "code",
   "execution_count": 9,
   "metadata": {},
   "outputs": [],
   "source": [
    "#userFiltNum = 1000\n",
    "#user_feat_inp_w_key_df = user_feat_inp_w_key_df2[user_feat_inp_w_key_df2['user_id'] < userFiltNum]\n",
    "#user_vid_time_df  = user_vid_time_df2[user_vid_time_df2['user_id'] < userFiltNum]\n",
    "#num_user_feat, num_video_feat = user_feat_inp_w_key_df.shape[1] -1 , vid_feat_inp_w_key_df.shape[1] -1\n",
    "#num_users, contex_feat = user_feat_inp_w_key_df.shape[0], len(user_vid_time_df.columns[3:])\n",
    "\n",
    "#user_vid_time_df_sort=user_vid_time_df[[\"user_id\",'movie_id',\"rank\"]].sort_values([\"user_id\",\"rank\"])\n",
    "#user_vid_time_df_sort = user_vid_time_df_sort.reset_index(drop=True)\n",
    "\n",
    "#h = pd.get_dummies(user_vid_time_df_sort[\"movie_id\"],sparse=True,prefix='vid_')\n",
    "\n",
    "#y_tr_p_w=pd.concat([user_vid_time_df_sort.reset_index(drop=True), h], axis=1)\n",
    "#y_tr_p_w['desired'] = np.argmax(np.array(y_tr_p_w.iloc[:,3:]) ,1)"
   ]
  },
  {
   "cell_type": "markdown",
   "metadata": {},
   "source": [
    "## transform a dict to numpy array"
   ]
  },
  {
   "cell_type": "code",
   "execution_count": 10,
   "metadata": {},
   "outputs": [],
   "source": [
    "user_feat_inp = np.array([X[key] for key in sorted(X.keys())]) # dictionary to numpy array\n",
    "\n",
    "vid_feat_inp = np.array([Y[key] for key in sorted(Y.keys())])"
   ]
  },
  {
   "cell_type": "markdown",
   "metadata": {},
   "source": [
    "## Add a column key specifying user"
   ]
  },
  {
   "cell_type": "code",
   "execution_count": 11,
   "metadata": {},
   "outputs": [],
   "source": [
    "key_user = np.asarray(range(user_feat_inp.shape[0])).reshape(user_feat_inp.shape[0],1)\n",
    "key_vid = np.asarray(range(vid_feat_inp.shape[0])).reshape(vid_feat_inp.shape[0],1)\n",
    "user_feat_inp_w_key = np.concatenate((user_feat_inp,key_user),axis=1)\n",
    "vid_feat_inp_w_key = np.concatenate((vid_feat_inp,key_vid),axis=1)\n",
    "user_vid_time = trData.keys()"
   ]
  },
  {
   "cell_type": "markdown",
   "metadata": {},
   "source": [
    "## transform numpy to pandas df in order to use easy merging"
   ]
  },
  {
   "cell_type": "code",
   "execution_count": 12,
   "metadata": {},
   "outputs": [],
   "source": [
    "user_feat_inp_w_key_df = pd.DataFrame(user_feat_inp_w_key) # numpy array to Data frame\n",
    "vid_feat_inp_w_key_df = pd.DataFrame(vid_feat_inp_w_key)#d\n",
    "user_vid_time_df = pd.DataFrame(user_vid_time)# b"
   ]
  },
  {
   "cell_type": "markdown",
   "metadata": {},
   "source": [
    "# Construct true_y"
   ]
  },
  {
   "cell_type": "code",
   "execution_count": 13,
   "metadata": {},
   "outputs": [],
   "source": [
    "rr = user_vid_time_df.sort_values([0,2])"
   ]
  },
  {
   "cell_type": "code",
   "execution_count": 14,
   "metadata": {},
   "outputs": [],
   "source": [
    "h = pd.get_dummies(rr[1],prefix='vid_')\n",
    "y_tr = pd.concat([rr.reset_index(drop = True), h], axis=1)\n",
    "y_tr.rename(columns = {0: 'user'}, inplace = True)\n",
    "y_tr.rename(columns = {1: 'mov'}, inplace = True)\n",
    "y_tr.rename(columns = {2: 'rank'}, inplace = True)\n",
    "y_tr['desired'] = np.argmax(np.array(y_tr.iloc[:,4:]) ,1)"
   ]
  },
  {
   "cell_type": "markdown",
   "metadata": {},
   "source": [
    "## Merge two pandas df "
   ]
  },
  {
   "cell_type": "code",
   "execution_count": 15,
   "metadata": {},
   "outputs": [],
   "source": [
    "max_watch = (y_tr.groupby('user',axis = 0).sum().iloc[:\n",
    "                                ,int(np.array(np.where(y_tr.columns=='rank'))):-1].sum(axis=1)).reset_index()"
   ]
  },
  {
   "cell_type": "code",
   "execution_count": 16,
   "metadata": {},
   "outputs": [],
   "source": [
    "vid_feat_inp_w_key_df.rename(columns = {300: 'mov_id'}, inplace = True)\n",
    "user_feat_inp_w_key_df.rename(columns = {310: 'user_id'}, inplace = True)\n",
    "user_vid_time_df.rename(columns = {0: 'user_id'}, inplace = True)\n",
    "user_vid_time_df.rename(columns = {1: 'mov_id'}, inplace = True)\n",
    "user_w_vid_tim_and_feat=user_vid_time_df.merge(user_feat_inp_w_key_df, how='inner',on = 'user_id', sort = False)\n",
    "user_vid_time_vidfeat_usefit=user_w_vid_tim_and_feat.merge(vid_feat_inp_w_key_df,how = 'inner'\n",
    "                                                           ,on='mov_id',sort = False)\n",
    "user_vid_time_vidfeat_usefit.rename(columns = {'2_x': 'rank'}, inplace = True)\n",
    "user_vid_time_vidfeat_usefit_sorted = user_vid_time_vidfeat_usefit.sort_values(['user_id', 'rank']) \n",
    "cols_to_del = [user_vid_time_vidfeat_usefit_sorted.columns.get_loc(\"user_id\")\n",
    "             ,user_vid_time_vidfeat_usefit_sorted.columns.get_loc(\"mov_id\")\n",
    "             ,user_vid_time_vidfeat_usefit_sorted.columns.get_loc(\"rank\")]"
   ]
  },
  {
   "cell_type": "markdown",
   "metadata": {},
   "source": [
    "# Split training and testing data"
   ]
  },
  {
   "cell_type": "code",
   "execution_count": 17,
   "metadata": {},
   "outputs": [],
   "source": [
    "tr_users = viewers*0.8\n",
    "tr_y = y_tr[y_tr['user'] < tr_users]"
   ]
  },
  {
   "cell_type": "markdown",
   "metadata": {},
   "source": [
    "##################################################"
   ]
  },
  {
   "cell_type": "markdown",
   "metadata": {},
   "source": [
    "########################################"
   ]
  },
  {
   "cell_type": "markdown",
   "metadata": {},
   "source": [
    "<h1>Configurations</h1>"
   ]
  },
  {
   "cell_type": "code",
   "execution_count": 18,
   "metadata": {},
   "outputs": [],
   "source": [
    "tf.reset_default_graph()"
   ]
  },
  {
   "cell_type": "code",
   "execution_count": 19,
   "metadata": {},
   "outputs": [],
   "source": [
    "# Network Parameters\n",
    "n_opt_epoch=1000"
   ]
  },
  {
   "cell_type": "markdown",
   "metadata": {},
   "source": [
    "<h3>LSTM with X units</h3>"
   ]
  },
  {
   "cell_type": "code",
   "execution_count": 20,
   "metadata": {},
   "outputs": [],
   "source": [
    "n_opt_epoch = 1000\n",
    "model = 'lstm'\n",
    "layers = 1\n",
    "n_samples = 500\n",
    "top_k = 15\n",
    "top_l = 10\n",
    "top_r = 5\n",
    "\n",
    "n_users = viewers #num_users\n",
    "te_users = int(np.ceil(viewers*0.2))\n",
    "n_feature = viewerFeat + videoFeat + contxFeat #623\n",
    "lr_rat = 0.001\n",
    "num_video = h.shape[1]\n",
    "beta = 0.01\n",
    "\n",
    "if tr_users > 500:\n",
    "    batch_size = 500\n",
    "else:\n",
    "    batch_size  = tr_users\n",
    "        \n",
    "n_hidden = 64 # hidden layer num of features"
   ]
  },
  {
   "cell_type": "markdown",
   "metadata": {},
   "source": [
    "Tensorboard saving paths"
   ]
  },
  {
   "cell_type": "code",
   "execution_count": 21,
   "metadata": {},
   "outputs": [],
   "source": [
    "#! mkdir -p ./reco_rnn/tensor_plot/xent_genre/\n",
    "#! mkdir -p ./reco_rnn/xent_cost_genre/\n",
    "#logs_path = \"/Users/onivron/Desktop/reco_rnn/tensor_plot/p_w/\"\n",
    "logs_path = \"./reco_rnn/tensor_plot/xent_genre/\""
   ]
  },
  {
   "cell_type": "markdown",
   "metadata": {},
   "source": [
    "<h3>Var creation</h3>\n",
    "We build data placeholders & variables "
   ]
  },
  {
   "cell_type": "code",
   "execution_count": 22,
   "metadata": {},
   "outputs": [],
   "source": [
    "with tf.name_scope('input'):\n",
    "    dynam_input=tf.placeholder(\"float32\", [batch_size, None, n_feature], name = 'dynam_input') \n",
    "    y_true = tf.placeholder(\"int32\", [None, 1], name = 'Input_y')\n",
    "    tr_rw = tf.placeholder(\"int32\" ,[None, 1] ,name = '_rw')\n",
    "    max_batch_length = tf.placeholder(\"float32\", [batch_size], name = 'max_leng')\n",
    "\n",
    "with tf.name_scope(\"weights\"):\n",
    "    W = {'out_2':tf.Variable(tf.random_normal([n_hidden, num_video]), name = 'w_2')}  \n",
    "with tf.name_scope(\"biases\"):\n",
    "    b = {'out_2':tf.Variable(tf.random_normal([num_video]), name='b_2')} "
   ]
  },
  {
   "cell_type": "markdown",
   "metadata": {},
   "source": [
    "<h3>Define model</h3>"
   ]
  },
  {
   "cell_type": "code",
   "execution_count": 23,
   "metadata": {},
   "outputs": [],
   "source": [
    "def RNN(dynam_input, max_batch_length, W, b, model):\n",
    "    lstm_cell = rnn_model(model, n_hidden, layers)\n",
    "    outputs, states = tf.nn.dynamic_rnn(lstm_cell,inputs = dynam_input\n",
    "                                     ,dtype = tf.float32, sequence_length = max_batch_length)\n",
    "    out_shaped = tf.reshape(outputs,[-1, n_hidden]) \n",
    "    lay_2 = tf.matmul(out_shaped, W['out_2']) + b['out_2'] \n",
    "    lay_3 = tf.sigmoid(lay_2)\n",
    "    \n",
    "    return (lay_2, lay_3) "
   ]
  },
  {
   "cell_type": "markdown",
   "metadata": {},
   "source": [
    "<h3>Define loss, accuracy & optimizer</h3>"
   ]
  },
  {
   "cell_type": "code",
   "execution_count": 24,
   "metadata": {
    "scrolled": false
   },
   "outputs": [],
   "source": [
    "y_pred, sig_y_pred = RNN(dynam_input, max_batch_length, W, b, model)\n",
    "\n",
    "relevant_y_pred = tf.reshape(tf.gather(params = tf.reshape(y_pred\n",
    "                                        ,[-1 ,num_video]), indices = tr_rw), [-1, num_video])\n",
    "\n",
    "with tf.name_scope('cross_entropy'):\n",
    "    xent = tf.reduce_mean(tf.nn.sparse_softmax_cross_entropy_with_logits(logits = relevant_y_pred, \n",
    "                            labels = tf.reshape(y_true, [-1])))   \n",
    "    regularizer = tf.nn.l2_loss(tf.abs(W['out_2']))\n",
    "    xent_regu = tf.reduce_mean(xent + beta * regularizer)\n",
    "\n",
    "top_vals, top_indice = tf.nn.top_k(relevant_y_pred, n_samples)\n",
    "    \n",
    "with tf.name_scope('Accuracy_top_r'):\n",
    "    top_15_indx_r = tf.slice(top_indice,[0,0],[-1, top_r])\n",
    "    to_bool_r = tf.reduce_sum(tf.cast(tf.equal(y_true, top_15_indx_r), tf.float32), 1)\n",
    "    accuracy_r = tf.reduce_mean(to_bool_r)   \n",
    "    \n",
    "with tf.name_scope('Accuracy_top_l'):\n",
    "    top_15_indx_l = tf.slice(top_indice,[0,0],[-1, top_l])\n",
    "    to_bool_l = tf.reduce_sum(tf.cast(tf.equal(y_true, top_15_indx_l), tf.float32), 1)\n",
    "    accuracy_l = tf.reduce_mean(to_bool_l)\n",
    "    \n",
    "with tf.name_scope('Accuracy_top_k'):\n",
    "    top_15_indx_k = tf.slice(top_indice,[0,0],[-1, top_k])\n",
    "    to_bool_k = tf.reduce_sum(tf.cast(tf.equal(y_true, top_15_indx_k), tf.float32), 1)\n",
    "    accuracy_k = tf.reduce_mean(to_bool_k)"
   ]
  },
  {
   "cell_type": "code",
   "execution_count": 25,
   "metadata": {},
   "outputs": [
    {
     "name": "stderr",
     "output_type": "stream",
     "text": [
      "/Users/omer/anaconda2/envs/tensorflow/lib/python2.7/site-packages/tensorflow/python/ops/gradients_impl.py:97: UserWarning: Converting sparse IndexedSlices to a dense Tensor of unknown shape. This may consume a large amount of memory.\n",
      "  \"Converting sparse IndexedSlices to a dense Tensor of unknown shape. \"\n"
     ]
    }
   ],
   "source": [
    "with tf.name_scope('train'):    \n",
    "    optimizer = tf.train.AdamOptimizer(learning_rate = lr_rat).minimize(xent_regu)"
   ]
  },
  {
   "cell_type": "markdown",
   "metadata": {},
   "source": [
    "<h3>Tensorboard set-up</h3>"
   ]
  },
  {
   "cell_type": "code",
   "execution_count": 26,
   "metadata": {},
   "outputs": [],
   "source": [
    "tf.summary.scalar(\"cost\", xent_regu)\n",
    "tf.summary.scalar(\"Accuracy_top_r\", accuracy_r)\n",
    "tf.summary.scalar(\"Accuracy_top_k\", accuracy_k)\n",
    "tf.summary.scalar(\"Accuracy_top_l\", accuracy_l)\n",
    "\n",
    "summary_op = tf.summary.merge_all()\n",
    "writer_opt = tf.summary.FileWriter(logs_path,graph = tf.get_default_graph())\n",
    "saver = tf.train.Saver(write_version = tf.train.SaverDef.V2)"
   ]
  },
  {
   "cell_type": "markdown",
   "metadata": {},
   "source": [
    "<h1>Training - optimization</h1>"
   ]
  },
  {
   "cell_type": "code",
   "execution_count": 27,
   "metadata": {},
   "outputs": [],
   "source": [
    "init = tf.global_variables_initializer()\n",
    "sess = tf.Session() \n",
    "sess.run(init)"
   ]
  },
  {
   "cell_type": "markdown",
   "metadata": {},
   "source": [
    "### uncomment only if weigths are to be re-used."
   ]
  },
  {
   "cell_type": "code",
   "execution_count": 29,
   "metadata": {},
   "outputs": [],
   "source": [
    "# save_MDir = './reco_rnn/xent_cost_genre/'\n",
    "# save_model = os.path.join(save_MDir,'accu')\n",
    "# sess=tf.Session() \n",
    "# sess.run(tf.global_variables_initializer())\n",
    "# saver.restore(sess = sess, save_path= save_model)"
   ]
  },
  {
   "cell_type": "code",
   "execution_count": 30,
   "metadata": {
    "collapsed": true
   },
   "outputs": [
    {
     "ename": "NameError",
     "evalue": "name 'tr_likes' is not defined",
     "output_type": "error",
     "traceback": [
      "\u001b[0;31m---------------------------------------------------------------------------\u001b[0m",
      "\u001b[0;31mNameError\u001b[0m                                 Traceback (most recent call last)",
      "\u001b[0;32m<ipython-input-30-8cab414d27c3>\u001b[0m in \u001b[0;36m<module>\u001b[0;34m()\u001b[0m\n\u001b[1;32m      5\u001b[0m             \u001b[0mwriter_opt\u001b[0m\u001b[0;34m.\u001b[0m\u001b[0madd_summary\u001b[0m\u001b[0;34m(\u001b[0m\u001b[0msummary\u001b[0m\u001b[0;34m,\u001b[0m\u001b[0mepoch\u001b[0m\u001b[0;34m)\u001b[0m\u001b[0;34m\u001b[0m\u001b[0m\n\u001b[1;32m      6\u001b[0m         \u001b[0;32mfor\u001b[0m \u001b[0mbatch_n\u001b[0m \u001b[0;32min\u001b[0m \u001b[0mrange\u001b[0m\u001b[0;34m(\u001b[0m\u001b[0mint\u001b[0m\u001b[0;34m(\u001b[0m\u001b[0mn_users\u001b[0m\u001b[0;34m/\u001b[0m\u001b[0mbatch_size\u001b[0m\u001b[0;34m)\u001b[0m\u001b[0;34m)\u001b[0m\u001b[0;34m:\u001b[0m\u001b[0;34m\u001b[0m\u001b[0m\n\u001b[0;32m----> 7\u001b[0;31m             \u001b[0mrw_to_chose\u001b[0m \u001b[0;34m=\u001b[0m \u001b[0mnp\u001b[0m\u001b[0;34m.\u001b[0m\u001b[0mrandom\u001b[0m\u001b[0;34m.\u001b[0m\u001b[0mchoice\u001b[0m\u001b[0;34m(\u001b[0m\u001b[0;34m(\u001b[0m\u001b[0mtr_likes\u001b[0m\u001b[0;34m[\u001b[0m\u001b[0;34m\"user_id\"\u001b[0m\u001b[0;34m]\u001b[0m\u001b[0;34m.\u001b[0m\u001b[0munique\u001b[0m\u001b[0;34m(\u001b[0m\u001b[0;34m)\u001b[0m\u001b[0;34m)\u001b[0m\u001b[0;34m,\u001b[0m \u001b[0mbatch_size\u001b[0m\u001b[0;34m,\u001b[0m\u001b[0mreplace\u001b[0m \u001b[0;34m=\u001b[0m \u001b[0mFalse\u001b[0m\u001b[0;34m)\u001b[0m\u001b[0;34m\u001b[0m\u001b[0m\n\u001b[0m\u001b[1;32m      8\u001b[0m             \u001b[0mx_tr\u001b[0m \u001b[0;34m=\u001b[0m \u001b[0msort_pd_df_by_ext_vec\u001b[0m\u001b[0;34m(\u001b[0m\u001b[0mtr_likes\u001b[0m\u001b[0;34m,\u001b[0m \u001b[0mrw_to_chose\u001b[0m\u001b[0;34m,\u001b[0m \u001b[0mcols\u001b[0m \u001b[0;34m=\u001b[0m \u001b[0;34m[\u001b[0m\u001b[0;34m'user_id'\u001b[0m\u001b[0;34m,\u001b[0m \u001b[0;34m'rank'\u001b[0m\u001b[0;34m]\u001b[0m\u001b[0;34m)\u001b[0m\u001b[0;34m\u001b[0m\u001b[0m\n\u001b[1;32m      9\u001b[0m             \u001b[0my_batch\u001b[0m \u001b[0;34m=\u001b[0m \u001b[0msort_pd_df_by_ext_vec\u001b[0m\u001b[0;34m(\u001b[0m\u001b[0mtr_y\u001b[0m\u001b[0;34m,\u001b[0m \u001b[0mrw_to_chose\u001b[0m\u001b[0;34m,\u001b[0m\u001b[0mcols\u001b[0m \u001b[0;34m=\u001b[0m \u001b[0;34m[\u001b[0m\u001b[0;34m'user_id'\u001b[0m\u001b[0;34m,\u001b[0m \u001b[0;34m'rank'\u001b[0m\u001b[0;34m]\u001b[0m\u001b[0;34m)\u001b[0m\u001b[0;34m\u001b[0m\u001b[0m\n",
      "\u001b[0;31mNameError\u001b[0m: name 'tr_likes' is not defined"
     ]
    }
   ],
   "source": [
    "with open('xent_genre_accuracy.csv', 'wb') as csvfile:\n",
    "    wr = csv.writer(csvfile, delimiter='\\t', lineterminator='\\n')\n",
    "    for epoch in range(int(n_opt_epoch)):\n",
    "        if(epoch != 0):\n",
    "            writer_opt.add_summary(summary,epoch)\n",
    "        for batch_n in range(int(n_users / batch_size)):   \n",
    "            rw_to_chose = np.random.choice((tr_likes[\"user_id\"].unique()), batch_size,replace = False) \n",
    "            x_tr = sort_pd_df_by_ext_vec(tr_likes, rw_to_chose, cols = ['user_id', 'rank'])\n",
    "            y_batch = sort_pd_df_by_ext_vec(tr_y, rw_to_chose,cols = ['user_id', 'rank'])\n",
    "            length_vec = sort_pd_df_by_ext_vec(df = max_watch, ext_sor_vec = rw_to_chose, cols = ['user_id'])      \n",
    "            length_max = max(length_vec.iloc[:, 1])\n",
    "            trial_size = (int(batch_size * length_max), n_feature)\n",
    "            str_idx = algeb_geom_series(0 ,start = 0 ,jump = length_max ,length = batch_size)\n",
    "            end_idx = np.append(length_vec.iloc[0, 1], length_vec.iloc[1:, 1:] + str_idx[1:].reshape(batch_size-1, -1))\n",
    "            app_range = range_bet_col_t_col_n_append(str_idx, end_idx)\n",
    "            zero_array_x = np.zeros(trial_size)\n",
    "            _x_tr = np_pad_tr_x(x_tr.iloc[:,3:], batch_size, str_idx.astype(int),\n",
    "                                            zero_array_x, length_vec.iloc[:,1].astype(int))      \n",
    "            acc_r, acc_l, acc_k, xent, _, summary = sess.run([accuracy_r, accuracy_l, accuracy_k\n",
    "                                                              , xent_regu, optimizer, summary_op]\n",
    "                                         ,feed_dict = {dynam_input: _x_tr.reshape(batch_size, -1, n_feature)\n",
    "                                         ,tr_rw: app_range.reshape(-1, 1)\n",
    "                                         ,y_true: y_batch['desired'].reshape(-1, 1)\n",
    "                                         ,max_batch_length: length_vec.iloc[:, 1]\n",
    "                                         })\n",
    "            wr.writerow([acc_r])\n",
    "            wr.writerow([acc_l])\n",
    "            wr.writerow([acc_k])\n",
    "            if (epoch%10 == 0):\n",
    "                print('epoch number:', epoch, 'loss:', xent, 'accuracy 15:', acc_k)\n",
    "                print('epoch number:', epoch, 'accuracy 10:', acc_l)\n",
    "                print('epoch number:', epoch, 'accuracy 5:', acc_r)\n",
    "\n",
    "        folder='./reco_rnn/xent_cost_genre/'\n",
    "        save_path=saver.save(sess,folder+'accu')"
   ]
  },
  {
   "cell_type": "markdown",
   "metadata": {},
   "source": [
    "<h3>End session</h3>"
   ]
  },
  {
   "cell_type": "code",
   "execution_count": null,
   "metadata": {
    "collapsed": true
   },
   "outputs": [],
   "source": [
    "sess.close()"
   ]
  }
 ],
 "metadata": {
  "anaconda-cloud": {},
  "kernelspec": {
   "display_name": "Python [default]",
   "language": "python",
   "name": "python2"
  },
  "language_info": {
   "codemirror_mode": {
    "name": "ipython",
    "version": 2
   },
   "file_extension": ".py",
   "mimetype": "text/x-python",
   "name": "python",
   "nbconvert_exporter": "python",
   "pygments_lexer": "ipython2",
   "version": "2.7.15"
  }
 },
 "nbformat": 4,
 "nbformat_minor": 1
}
