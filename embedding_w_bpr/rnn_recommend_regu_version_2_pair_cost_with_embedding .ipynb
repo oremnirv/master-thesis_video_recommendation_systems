{
 "cells": [
  {
   "cell_type": "markdown",
   "metadata": {},
   "source": [
    "<h1><u>RNN thesis</u></h1>\n",
    "<h4>Omer Nivron</h4>\n",
    "15098443"
   ]
  },
  {
   "cell_type": "markdown",
   "metadata": {},
   "source": [
    "<h2>Package loading</h2>"
   ]
  },
  {
   "cell_type": "code",
   "execution_count": 1,
   "metadata": {
    "collapsed": true
   },
   "outputs": [],
   "source": [
    "import numpy as np\n",
    "import sys as sys\n",
    "import random as rd\n",
    "import tensorflow as tf\n",
    "import gzip\n",
    "from __future__ import division\n",
    "import pandas as pd\n",
    "import os\n",
    "import math\n",
    "from __future__ import absolute_import\n",
    "from __future__ import division\n",
    "from __future__ import print_function\n",
    "import time\n",
    "import timeit\n",
    "import csv"
   ]
  },
  {
   "cell_type": "code",
   "execution_count": null,
   "metadata": {},
   "outputs": [],
   "source": [
    "import numpy as np\n",
    "import boto3\n",
    "import tensorflow as tf\n",
    "import pandas as pd\n",
    "import os\n",
    "import cStringIO\n",
    "! sudo pip install s3fs\n",
    "import s3fs\n",
    "pd.options.display.max_columns = None\n",
    "pd.options.display.max_rows = None"
   ]
  },
  {
   "cell_type": "markdown",
   "metadata": {},
   "source": [
    "### Data creation"
   ]
  },
  {
   "cell_type": "code",
   "execution_count": 3,
   "metadata": {
    "collapsed": true
   },
   "outputs": [],
   "source": [
    "def np_pad_tr_x(x_tr, batch_size, str_idx, zero_array_x, length_vec):\n",
    "    start = 0\n",
    "    for i in range(batch_size):\n",
    "        if i > 0:\n",
    "            end = end + length_vec[i] \n",
    "        else:\n",
    "            end = length_vec[0]\n",
    "        zero_array_x[ str_idx[i] : (str_idx[i] + length_vec[i]) ] = x_tr[ start : end ] \n",
    "        start = end\n",
    "\n",
    "    return(zero_array_x)"
   ]
  },
  {
   "cell_type": "code",
   "execution_count": 4,
   "metadata": {
    "collapsed": true
   },
   "outputs": [],
   "source": [
    "def range_bet_col_t_col_n_append(col_1 ,col_2):\n",
    "    app_ranges=[]\n",
    "    for i in range(col_1.shape[0]):\n",
    "        single_range = range((col_1[i]).astype(int) ,(col_2[i]).astype(int))\n",
    "        app_ranges = np.append(app_ranges,single_range)\n",
    "    return(app_ranges)"
   ]
  },
  {
   "cell_type": "code",
   "execution_count": 5,
   "metadata": {
    "collapsed": true
   },
   "outputs": [],
   "source": [
    "def algeb_geom_series(mode ,start ,jump ,length):\n",
    "    u = np.empty((length,))\n",
    "    u[0] = start\n",
    "    u[1:] = jump\n",
    "    if (mode == 0):\n",
    "        series=np.cumsum(u)\n",
    "    if (mode == 1):\n",
    "        series=np.cumprod(u)\n",
    "    return(series)"
   ]
  },
  {
   "cell_type": "code",
   "execution_count": 6,
   "metadata": {
    "collapsed": true
   },
   "outputs": [],
   "source": [
    "def sort_pd_df_by_ext_vec(df,ext_sor_vec, cols):\n",
    "    df_s = df[((df[cols[0]]).astype(int)).isin(ext_sor_vec)] #\n",
    "    df_s['sort_cat'] = pd.Categorical(df_s[cols[0]],categories = ext_sor_vec,ordered = True)\n",
    "    if len(cols) > 1:\n",
    "        df_s.sort_values(['sort_cat',cols[1]] ,inplace = True)\n",
    "    \n",
    "    else:\n",
    "        df_s.sort_values(['sort_cat'],inplace = True) \n",
    "    \n",
    "    df_s.reset_index(inplace = True)\n",
    "    df_ = df_s.drop(['sort_cat','index'] ,axis = 1)\n",
    "    \n",
    "    return(df_)"
   ]
  },
  {
   "cell_type": "code",
   "execution_count": 7,
   "metadata": {
    "collapsed": true
   },
   "outputs": [],
   "source": [
    "def rnn_model(model ,n_hidden ,layers):\n",
    "    if (layers == 1):\n",
    "        if(model == 'lstm'):\n",
    "            cell = tf.nn.rnn_cell.LSTMCell(n_hidden ,state_is_tuple=True)\n",
    "        else:\n",
    "            cell = tf.nn.rnn_cell.GRUCell(n_hidden)   \n",
    "    else:\n",
    "        if(model == 'lstm'):\n",
    "            lstm = tf.nn.rnn_cell.LSTMCell(n_hidden ,state_is_tuple=True)\n",
    "            cell = tf.nn.rnn_cell.MultiRNNCell([lstm]*layers)\n",
    "\n",
    "        else:\n",
    "            gru = tf.nn.rnn_cell.GRUCell(n_hidden)\n",
    "            cell = tf.nn.rnn_cell.MultiRNNCell([gru] * layers)\n",
    "    return(cell)"
   ]
  },
  {
   "cell_type": "markdown",
   "metadata": {},
   "source": [
    "#######################################################"
   ]
  },
  {
   "cell_type": "markdown",
   "metadata": {},
   "source": [
    "Loading Fake Data"
   ]
  },
  {
   "cell_type": "code",
   "execution_count": null,
   "metadata": {
    "collapsed": true
   },
   "outputs": [],
   "source": [
    "def trainSamples(viewers,videos,probab,viewerFeat,videoFeat,contxFeat):\n",
    "    trData = {} # trData = Dictionary with training data. This is histrory of viewer and video iteraction\n",
    "    X = {} # X  = Dictionary with viewer features as arrays\n",
    "    Y ={} # Y  = Dictionary with video features as arrays\n",
    "    for i in range(viewers):\n",
    "        X[i] = np.random.rand(viewerFeat)\n",
    "        a = 0 # timing of the video for a particular user,... \n",
    "                #to give the order in which the videos have been watched\n",
    "        for j in range(videos):\n",
    "            if int(np.random.binomial(1,probab ,1)[0]):\n",
    "                trData[(i,j,a)] = np.random.rand(contxFeat)\n",
    "                a+=1 # when a video is watched, we increase the value of a by 1 \n",
    "            if i==0:\n",
    "                Y[j] = np.random.rand(videoFeat)\n",
    "    return X,Y,trData"
   ]
  },
  {
   "cell_type": "code",
   "execution_count": null,
   "metadata": {
    "collapsed": true
   },
   "outputs": [],
   "source": [
    "viewers = 1000  #number of viewers\n",
    "videos =1000  #number of videos\n",
    "probab = 0.05  #probability of a viewer watching any one video\n",
    "viewerFeat = 310  #number of features describing a veiwer\n",
    "videoFeat = 300   #number of features describing a video\n",
    "contxFeat = 15 # number of contextual features\n",
    "# X  = Dictionary with viewer features as arrays\n",
    "# Y  = Dictionary with video features as arrays\n",
    "# trData = Dictionary with training data. This is histrory of viewer and video iteraction\n",
    "X ,Y ,trData = trainSamples(viewers ,videos ,probab ,viewerFeat ,videoFeat ,contxFeat)"
   ]
  },
  {
   "cell_type": "markdown",
   "metadata": {},
   "source": [
    "### transform a dict to numpy array"
   ]
  },
  {
   "cell_type": "code",
   "execution_count": null,
   "metadata": {
    "collapsed": true
   },
   "outputs": [],
   "source": [
    "user_feat_inp = np.array([X[key] for key in sorted(X.keys())]) \n",
    "vid_feat_inp = np.array([Y[key] for key in sorted(Y.keys())])"
   ]
  },
  {
   "cell_type": "markdown",
   "metadata": {},
   "source": [
    "### Add a column key specifying user"
   ]
  },
  {
   "cell_type": "code",
   "execution_count": null,
   "metadata": {
    "collapsed": true
   },
   "outputs": [],
   "source": [
    "key_user = np.asarray(range(user_feat_inp.shape[0])).reshape(user_feat_inp.shape[0] ,1)\n",
    "key_vid = np.asarray(range(vid_feat_inp.shape[0])).reshape(vid_feat_inp.shape[0] ,1)\n",
    "user_feat_inp_w_key = np.concatenate((user_feat_inp ,key_user),axis = 1)\n",
    "vid_feat_inp_w_key = np.concatenate((vid_feat_inp ,key_vid),axis = 1)\n",
    "user_vid_time = trData.keys()"
   ]
  },
  {
   "cell_type": "markdown",
   "metadata": {},
   "source": [
    "### transform numpy to pandas df in order to use easy merging"
   ]
  },
  {
   "cell_type": "code",
   "execution_count": null,
   "metadata": {
    "collapsed": true
   },
   "outputs": [],
   "source": [
    "user_feat_inp_w_key_df = pd.DataFrame(user_feat_inp_w_key) \n",
    "vid_feat_inp_w_key_df = pd.DataFrame(vid_feat_inp_w_key)\n",
    "user_vid_time_df = pd.DataFrame(user_vid_time)"
   ]
  },
  {
   "cell_type": "markdown",
   "metadata": {},
   "source": [
    "### sort values by user and time watched"
   ]
  },
  {
   "cell_type": "code",
   "execution_count": null,
   "metadata": {
    "collapsed": true
   },
   "outputs": [],
   "source": [
    "rr = user_vid_time_df.sort_values([0 ,2]).reset_index()"
   ]
  },
  {
   "cell_type": "markdown",
   "metadata": {},
   "source": [
    "### get categorical column for each video with 1 where watched and 0 otherwise"
   ]
  },
  {
   "cell_type": "code",
   "execution_count": null,
   "metadata": {
    "collapsed": true,
    "scrolled": false
   },
   "outputs": [],
   "source": [
    "h = pd.get_dummies(rr[1],prefix = 'vid_')\n",
    "y_tr_p_w = pd.concat([rr.reset_index(drop = True), h], axis = 1)\n",
    "y_tr_p_w.rename(columns = {0: 'user'}, inplace = True)\n",
    "y_tr_p_w.rename(columns = {1: 'mov'}, inplace = True)\n",
    "y_tr_p_w.rename(columns = {2: 'rank'}, inplace = True)\n",
    "y_tr_p_w['desired'] = np.argmax(np.array(y_tr_p_w.iloc[:,4:]) ,1)"
   ]
  },
  {
   "cell_type": "markdown",
   "metadata": {},
   "source": [
    "### We get for each user one row with 1's in the positions watched incl. user column(0) "
   ]
  },
  {
   "cell_type": "code",
   "execution_count": 17,
   "metadata": {
    "collapsed": true
   },
   "outputs": [],
   "source": [
    "max_watch = (y_tr_p_w.groupby('user',axis = 0).sum().iloc[:\n",
    "                                ,int(np.array(np.where(y_tr_p_w.columns=='rank'))):-1].sum(axis=1)).reset_index()"
   ]
  },
  {
   "cell_type": "markdown",
   "metadata": {},
   "source": [
    "### Merge two pandas df "
   ]
  },
  {
   "cell_type": "code",
   "execution_count": null,
   "metadata": {
    "collapsed": true
   },
   "outputs": [],
   "source": [
    "vid_feat_inp_w_key_df.rename(columns = {300: 'mov_id'}, inplace = True)\n",
    "user_feat_inp_w_key_df.rename(columns = {310: 'user_id'}, inplace = True)\n",
    "user_vid_time_df.rename(columns = {0: 'user_id'}, inplace = True)\n",
    "user_vid_time_df.rename(columns = {1: 'mov_id'}, inplace = True)\n",
    "user_w_vid_tim_and_feat = user_vid_time_df.merge(user_feat_inp_w_key_df \n",
    "                                                 ,how = 'inner',on = 'user_id', sort = False)\n",
    "user_vid_time_vidfeat_usefit = user_w_vid_tim_and_feat.merge(vid_feat_inp_w_key_df \n",
    "                                                             ,how = 'inner' ,on='mov_id' ,sort = False)\n",
    "user_vid_time_vidfeat_usefit.rename(columns={'2_x': 'time_watch'} ,inplace=True)\n",
    "user_vid_time_vidfeat_usefit_sorted = user_vid_time_vidfeat_usefit.sort_values(['user_id', 'time_watch']) "
   ]
  },
  {
   "cell_type": "markdown",
   "metadata": {},
   "source": [
    "### Split training and testing data"
   ]
  },
  {
   "cell_type": "code",
   "execution_count": null,
   "metadata": {
    "collapsed": true
   },
   "outputs": [],
   "source": [
    "tr_users = viewers * 0.8\n",
    "tr_y = y_tr_p_w[y_tr_p_w['user'] < tr_users]"
   ]
  },
  {
   "cell_type": "code",
   "execution_count": null,
   "metadata": {
    "collapsed": true
   },
   "outputs": [],
   "source": [
    "n_opt_epoch = 1\n",
    "model = 'lstm'\n",
    "layers = 1\n",
    "top_k = 5\n",
    "n_samples = 10\n",
    "n_users = 1000\n",
    "te_users = int(n_users * 0.2)\n",
    "n_feature = 610\n",
    "n_user_feature = 5\n",
    "lr_rat = 0.001\n",
    "num_video = 1000\n",
    "beta = 0.01\n",
    "batch_size = 128\n",
    "n_hidden_1 = 100\n",
    "n_hidden_2 = 50 # hidden layer num of features"
   ]
  },
  {
   "cell_type": "markdown",
   "metadata": {},
   "source": [
    "Tensorboard saving paths"
   ]
  },
  {
   "cell_type": "code",
   "execution_count": null,
   "metadata": {
    "collapsed": true
   },
   "outputs": [],
   "source": [
    "logs_path = \"/Users/onivron/Desktop/reco_rnn/tensor_plot/p_w/\""
   ]
  },
  {
   "cell_type": "markdown",
   "metadata": {},
   "source": [
    "###############################################"
   ]
  },
  {
   "cell_type": "code",
   "execution_count": 10,
   "metadata": {
    "collapsed": true
   },
   "outputs": [],
   "source": [
    "userFiltNum = 1000\n",
    "user_feat_inp_w_key_df = user_feat_inp_w_key_df2[user_feat_inp_w_key_df2['user_id'] < userFiltNum]\n",
    "user_vid_time_df  = user_vid_time_df2[user_vid_time_df2['user_id'] < userFiltNum]\n",
    "num_user_feat, num_video_feat = user_feat_inp_w_key_df.shape[1] -1 , vid_feat_inp_w_key_df.shape[1] -1\n",
    "num_users, contex_feat = user_feat_inp_w_key_df.shape[0], len(user_vid_time_df.columns[3:])\n",
    "\n",
    "user_vid_time_df_sort=user_vid_time_df[[\"user_id\",'movie_id',\"rank\"]].sort_values([\"user_id\",\"rank\"])\n",
    "user_vid_time_df_sort = user_vid_time_df_sort.reset_index(drop=True)\n",
    "\n",
    "h=pd.get_dummies(user_vid_time_df_sort[\"movie_id\"],sparse=True,prefix='vid_')\n",
    "\n",
    "y_tr_p_w=pd.concat([user_vid_time_df_sort.reset_index(drop=True), h], axis=1)\n",
    "y_tr_p_w['desired'] = np.argmax(np.array(y_tr_p_w.iloc[:,3:]) ,1)"
   ]
  },
  {
   "cell_type": "code",
   "execution_count": 11,
   "metadata": {
    "collapsed": true
   },
   "outputs": [],
   "source": [
    "max_watch = (y_tr_p_w.groupby('user_id',axis = 0).sum().iloc[:\n",
    "                                ,((list(np.where(y_tr_p_w.columns==\"rank\")[0])[0])):-1].sum(axis=1)).reset_index()\n",
    "\n",
    "user_w_vid_tim_and_feat = user_vid_time_df.merge(user_feat_inp_w_key_df \n",
    "                                                 ,how = 'inner',on = 'user_id', sort = False)\n",
    "user_vid_time_vidfeat_usefit = user_w_vid_tim_and_feat.merge(vid_feat_inp_w_key_df \n",
    "                                                             ,how = 'inner' ,on='movie_id' ,sort = False)\n",
    "user_vid_time_vidfeat_usefit_sorted = user_vid_time_vidfeat_usefit.sort_values(['user_id', 'rank']) \n",
    "\n",
    "tr_users = int(np.ceil(num_users*0.8))\n",
    "tr_y = y_tr_p_w[y_tr_p_w['user_id'] < tr_users]"
   ]
  },
  {
   "cell_type": "markdown",
   "metadata": {},
   "source": [
    "########################################################"
   ]
  },
  {
   "cell_type": "markdown",
   "metadata": {},
   "source": [
    "<h3>Configurations</h3>"
   ]
  },
  {
   "cell_type": "code",
   "execution_count": 12,
   "metadata": {
    "collapsed": true
   },
   "outputs": [],
   "source": [
    "tf.reset_default_graph()"
   ]
  },
  {
   "cell_type": "markdown",
   "metadata": {},
   "source": [
    "<h3>LSTM with X units</h3>"
   ]
  },
  {
   "cell_type": "code",
   "execution_count": 13,
   "metadata": {
    "collapsed": true
   },
   "outputs": [],
   "source": [
    "n_opt_epoch = 1000\n",
    "model = 'lstm'\n",
    "layers = 1\n",
    "n_samples = 2000\n",
    "top_k = 15\n",
    "n_users = num_users\n",
    "te_users = int(np.ceil(num_users*0.2))\n",
    "n_feature = num_user_feat + num_video_feat + contex_feat #623\n",
    "lr_rat = 0.001\n",
    "num_video = h.shape[1]\n",
    "beta = 0.01\n",
    "\n",
    "if tr_users > 500:\n",
    "    batch_size = 500\n",
    "else:\n",
    "    batch_size  = tr_users\n",
    "n_hidden_1 = 100\n",
    "n_hidden_2 = 50 # hidden layer num of features"
   ]
  },
  {
   "cell_type": "code",
   "execution_count": 14,
   "metadata": {
    "collapsed": true
   },
   "outputs": [],
   "source": [
    "logs_path = \"./reco_rnn/tensor_plot/p_w/\""
   ]
  },
  {
   "cell_type": "markdown",
   "metadata": {},
   "source": [
    "<h3>Var creation</h3>\n",
    "We build data placeholders & variables "
   ]
  },
  {
   "cell_type": "code",
   "execution_count": 15,
   "metadata": {
    "collapsed": true
   },
   "outputs": [],
   "source": [
    "with tf.name_scope('input'):\n",
    "    dynam_input = tf.placeholder(\"float32\" ,[batch_size, None, n_feature] ,name = 'dynam_input') # None is time\n",
    "    max_batch_length = tf.placeholder(\"float32\" ,[batch_size] ,name = 'max_leng')\n",
    "    y_true = tf.placeholder(\"int32\",[None,1] ,name = 'Input_y')\n",
    "    max_batch_length = tf.placeholder(\"float32\" ,[batch_size] ,name = 'max_leng')\n",
    "    tr_rw = tf.placeholder(\"int32\" ,[None,1] ,name = '_rw')\n",
    "    tr_rw_n_desired_rep = tf.placeholder(\"int32\" ,[None, 2] ,name = 'rw_rep')\n",
    "\n",
    "with tf.name_scope(\"weights\"):\n",
    "    W = {'out_1':tf.Variable(tf.random_normal([n_feature ,n_hidden_1]),name = 'w_1'),\n",
    "        'out_2':tf.Variable(tf.random_normal([n_hidden_2 ,num_video]),name = 'w_2')}\n",
    "    \n",
    "with tf.name_scope(\"biases\"):\n",
    "    b = {'out_1':tf.Variable(tf.random_normal([n_hidden_1]) ,name = 'b_1'),\n",
    "        'out_2':tf.Variable(tf.random_normal([num_video]) ,name = 'b_2')}"
   ]
  },
  {
   "cell_type": "markdown",
   "metadata": {},
   "source": [
    "<h3>Define model</h3>"
   ]
  },
  {
   "cell_type": "code",
   "execution_count": 16,
   "metadata": {
    "collapsed": true
   },
   "outputs": [],
   "source": [
    "def RNN(dynam_input ,max_batch_length\n",
    "         ,W ,b ,model):\n",
    "    \n",
    "    lstm_cell = rnn_model(model ,n_hidden_2 ,layers)\n",
    "    \n",
    "    lay_1 = tf.reshape(tf.matmul(tf.reshape(dynam_input, [-1, n_feature]), W['out_1']) + b['out_1']\n",
    "                       ,[batch_size, -1, n_hidden_1])\n",
    "    \n",
    "    outputs ,states = tf.nn.dynamic_rnn(lstm_cell ,inputs = lay_1\n",
    "                                     ,dtype = tf.float32 ,sequence_length = max_batch_length)\n",
    "    \n",
    "    out_shaped = tf.reshape(outputs ,[-1 ,n_hidden_2])\n",
    "    \n",
    "    lay_2 = tf.matmul(out_shaped, W['out_2']) + b['out_2']\n",
    "    \n",
    "    return (lay_2 ) "
   ]
  },
  {
   "cell_type": "markdown",
   "metadata": {},
   "source": [
    "<h3>Define loss, accuracy & optimizer</h3>"
   ]
  },
  {
   "cell_type": "code",
   "execution_count": 17,
   "metadata": {
    "collapsed": true
   },
   "outputs": [],
   "source": [
    "y_pred  = RNN(dynam_input, max_batch_length, W, b, model)\n",
    "\n",
    "with tf.name_scope('bpr_max'):\n",
    "    target_ind = tf.gather_nd(params = tf.reshape(y_pred, [-1, num_video]), indices = tr_rw_n_desired_rep)\n",
    "    relevant_y_pred = tf.reshape(tf.gather(params = tf.reshape(y_pred\n",
    "                                                    , [-1 ,num_video]), indices = tr_rw), [-1, num_video])\n",
    "    top_neg_vals, top_neg_indice = tf.nn.top_k(relevant_y_pred, n_samples)\n",
    "    softmax_scores = tf.reshape(tf.nn.softmax(top_neg_vals),[-1])\n",
    "    loss = tf.reduce_mean(-tf.log(tf.reduce_sum(tf.multiply(tf.sigmoid(tf.subtract(target_ind\n",
    "                                                            , tf.reshape(top_neg_vals, [-1])))\n",
    "                                                            ,softmax_scores))))\n",
    "    regularizer = tf.nn.l2_loss(tf.abs(W['out_2']))\n",
    "    p_wise = tf.reduce_mean(loss + beta * regularizer)\n",
    "\n",
    "with tf.name_scope('Accuracy'):\n",
    "    top_15_indx = tf.slice(top_neg_indice,[0,0],[-1, top_k])\n",
    "    to_bool = tf.reduce_sum(tf.cast(tf.equal(y_true, top_15_indx), tf.float32), 1)\n",
    "    accuracy = tf.reduce_mean(to_bool)"
   ]
  },
  {
   "cell_type": "code",
   "execution_count": 18,
   "metadata": {},
   "outputs": [
    {
     "name": "stderr",
     "output_type": "stream",
     "text": [
      "/usr/local/lib/python2.7/site-packages/tensorflow/python/ops/gradients_impl.py:93: UserWarning: Converting sparse IndexedSlices to a dense Tensor of unknown shape. This may consume a large amount of memory.\n",
      "  \"Converting sparse IndexedSlices to a dense Tensor of unknown shape. \"\n"
     ]
    }
   ],
   "source": [
    "with tf.name_scope('train'):    \n",
    "    optimizer = tf.train.AdamOptimizer(learning_rate = lr_rat).minimize(p_wise)"
   ]
  },
  {
   "cell_type": "markdown",
   "metadata": {},
   "source": [
    "<h3>Tensorboard set-up</h3>"
   ]
  },
  {
   "cell_type": "code",
   "execution_count": 19,
   "metadata": {
    "collapsed": true
   },
   "outputs": [],
   "source": [
    "tf.summary.scalar(\"cost\", p_wise)\n",
    "tf.summary.scalar(\"accuracy\", accuracy)\n",
    "summary_op = tf.summary.merge_all()\n",
    "writer_opt = tf.summary.FileWriter(logs_path, graph = tf.get_default_graph())\n",
    "saver = tf.train.Saver(write_version = tf.train.SaverDef.V2)"
   ]
  },
  {
   "cell_type": "markdown",
   "metadata": {},
   "source": [
    "<h3>Training - optimization</h3>"
   ]
  },
  {
   "cell_type": "code",
   "execution_count": 20,
   "metadata": {
    "collapsed": true
   },
   "outputs": [],
   "source": [
    "init = tf.global_variables_initializer()\n",
    "sess = tf.Session() \n",
    "sess.run(init)"
   ]
  },
  {
   "cell_type": "code",
   "execution_count": 21,
   "metadata": {},
   "outputs": [
    {
     "name": "stdout",
     "output_type": "stream",
     "text": [
      "INFO:tensorflow:Restoring parameters from ./reco_rnn/pair_cost/accu\n"
     ]
    }
   ],
   "source": [
    "save_MDir = './reco_rnn/pair_cost/'\n",
    "save_model = os.path.join(save_MDir,'accu')\n",
    "sess=tf.Session() \n",
    "sess.run(tf.global_variables_initializer())\n",
    "saver.restore(sess = sess, save_path= save_model)"
   ]
  },
  {
   "cell_type": "code",
   "execution_count": null,
   "metadata": {
    "scrolled": false
   },
   "outputs": [
    {
     "name": "stderr",
     "output_type": "stream",
     "text": [
      "/usr/lib/python2.7/dist-packages/ipykernel_launcher.py:3: SettingWithCopyWarning: \n",
      "A value is trying to be set on a copy of a slice from a DataFrame.\n",
      "Try using .loc[row_indexer,col_indexer] = value instead\n",
      "\n",
      "See the caveats in the documentation: http://pandas.pydata.org/pandas-docs/stable/indexing.html#indexing-view-versus-copy\n",
      "  This is separate from the ipykernel package so we can avoid doing imports until\n",
      "/usr/lib/python2.7/dist-packages/ipykernel_launcher.py:5: SettingWithCopyWarning: \n",
      "A value is trying to be set on a copy of a slice from a DataFrame\n",
      "\n",
      "See the caveats in the documentation: http://pandas.pydata.org/pandas-docs/stable/indexing.html#indexing-view-versus-copy\n",
      "  \"\"\"\n",
      "/usr/lib/python2.7/dist-packages/ipykernel_launcher.py:8: SettingWithCopyWarning: \n",
      "A value is trying to be set on a copy of a slice from a DataFrame\n",
      "\n",
      "See the caveats in the documentation: http://pandas.pydata.org/pandas-docs/stable/indexing.html#indexing-view-versus-copy\n",
      "  \n",
      "/usr/lib/python2.7/dist-packages/ipykernel_launcher.py:21: FutureWarning: reshape is deprecated and will raise in a subsequent release. Please use .values.reshape(...) instead\n",
      "/usr/lib/python2.7/dist-packages/ipykernel_launcher.py:27: FutureWarning: reshape is deprecated and will raise in a subsequent release. Please use .values.reshape(...) instead\n"
     ]
    },
    {
     "name": "stdout",
     "output_type": "stream",
     "text": [
      "epoch number: 0 loss: 828.322 accuracy: 0.175629\n",
      "epoch number: 0 loss: 827.031 accuracy: 0.177124\n",
      "epoch number: 10 loss: 802.862 accuracy: 0.194441\n",
      "epoch number: 10 loss: 801.619 accuracy: 0.179357\n",
      "epoch number: 20 loss: 778.196 accuracy: 0.193595\n",
      "epoch number: 20 loss: 776.998 accuracy: 0.185554\n",
      "epoch number: 30 loss: 754.261 accuracy: 0.211775\n",
      "epoch number: 30 loss: 753.071 accuracy: 0.215887\n",
      "epoch number: 40 loss: 731.052 accuracy: 0.214677\n",
      "epoch number: 40 loss: 729.904 accuracy: 0.222917\n",
      "epoch number: 140 loss: 534.156 accuracy: 0.314042\n",
      "epoch number: 140 loss: 533.308 accuracy: 0.322618\n",
      "epoch number: 150 loss: 517.552 accuracy: 0.324371\n",
      "epoch number: 150 loss: 516.727 accuracy: 0.331472\n",
      "epoch number: 160 loss: 501.45 accuracy: 0.336372\n",
      "epoch number: 160 loss: 500.673 accuracy: 0.316721\n",
      "epoch number: 170 loss: 485.829 accuracy: 0.340794\n",
      "epoch number: 330 loss: 290.565 accuracy: 0.429377\n",
      "epoch number: 330 loss: 290.096 accuracy: 0.427912\n",
      "epoch number: 340 loss: 281.216 accuracy: 0.428933\n",
      "epoch number: 340 loss: 280.749 accuracy: 0.436709\n",
      "epoch number: 350 loss: 272.13 accuracy: 0.444065\n",
      "epoch number: 350 loss: 271.692 accuracy: 0.433777\n",
      "epoch number: 360 loss: 263.327 accuracy: 0.447841\n",
      "epoch number: 360 loss: 262.896 accuracy: 0.44972\n",
      "epoch number: 370 loss: 254.794 accuracy: 0.434849\n",
      "epoch number: 370 loss: 254.371 accuracy: 0.439476\n",
      "epoch number: 380 loss: 246.501 accuracy: 0.452871\n",
      "epoch number: 380 loss: 246.097 accuracy: 0.443692\n",
      "epoch number: 390 loss: 238.467 accuracy: 0.441401\n",
      "epoch number: 390 loss: 238.076 accuracy: 0.44197\n",
      "epoch number: 400 loss: 230.66 accuracy: 0.456751\n",
      "epoch number: 400 loss: 230.286 accuracy: 0.439205\n",
      "epoch number: 480 loss: 176.093 accuracy: 0.461268\n",
      "epoch number: 480 loss: 175.802 accuracy: 0.452695\n",
      "epoch number: 540 loss: 143.064 accuracy: 0.471989\n",
      "epoch number: 540 loss: 142.812 accuracy: 0.478523\n",
      "epoch number: 550 loss: 138.124 accuracy: 0.488919\n",
      "epoch number: 550 loss: 137.884 accuracy: 0.477942\n",
      "epoch number: 560 loss: 133.338 accuracy: 0.480949\n",
      "epoch number: 560 loss: 133.101 accuracy: 0.481391\n",
      "epoch number: 570 loss: 128.689 accuracy: 0.494471\n",
      "epoch number: 570 loss: 128.459 accuracy: 0.489874\n",
      "epoch number: 580 loss: 124.192 accuracy: 0.478868\n",
      "epoch number: 580 loss: 123.963 accuracy: 0.488642\n",
      "epoch number: 590 loss: 119.819 accuracy: 0.495602\n",
      "epoch number: 590 loss: 119.608 accuracy: 0.481527\n",
      "epoch number: 600 loss: 115.584 accuracy: 0.492624\n",
      "epoch number: 600 loss: 115.379 accuracy: 0.495499\n"
     ]
    }
   ],
   "source": [
    "with open('embedding_bpr_max_accuracy.csv', 'wb') as csvfile:\n",
    "    wr = csv.writer(csvfile, delimiter='\\t', lineterminator='\\n')\n",
    "    for epoch in range(int(n_opt_epoch)):\n",
    "        if(epoch != 0):\n",
    "            writer_opt.add_summary(summary ,epoch)\n",
    "        for batch_n in range(int(n_users / batch_size)):\n",
    "            rw_to_chose = np.random.choice(int(tr_users), batch_size, replace = False) \n",
    "            x_tr = sort_pd_df_by_ext_vec(user_vid_time_vidfeat_usefit_sorted\n",
    "                                         , rw_to_chose, cols = ['user_id', 'rank'])\n",
    "            y_batch = sort_pd_df_by_ext_vec(tr_y, rw_to_chose, cols = ['user_id', 'rank'])\n",
    "            length_vec = sort_pd_df_by_ext_vec(df = max_watch, ext_sor_vec = rw_to_chose, cols = ['user_id'])      \n",
    "            length_max = max(length_vec.iloc[:, 1])\n",
    "            str_idx = algeb_geom_series(0 ,start = 0 ,jump = length_max ,length = batch_size)\n",
    "            end_idx = np.append(length_vec.iloc[0, 1], length_vec.iloc[1:, 1:] + str_idx[1:].reshape(batch_size-1, -1))\n",
    "            app_range = range_bet_col_t_col_n_append(str_idx, end_idx)\n",
    "            trial_size = (int(batch_size * length_max), n_feature)\n",
    "            zero_array_x = np.zeros(trial_size)\n",
    "            _x_tr = np_pad_tr_x(x_tr.iloc[:,3:], batch_size, str_idx.astype(int),\n",
    "                                            zero_array_x, length_vec.iloc[:, 1].astype(int))       \n",
    "            rep_ind = np.concatenate((np.repeat(app_range, n_samples).reshape(-1, 1)\n",
    "                                      , np.repeat(y_batch['desired'], n_samples).reshape(-1, 1)), axis = 1)\n",
    "\n",
    "            acc, p_wise_cost, _, summary = sess.run([accuracy, p_wise, optimizer, summary_op]\n",
    "                                                      ,feed_dict = {dynam_input: _x_tr.reshape(batch_size, -1, n_feature)\n",
    "                                                      ,tr_rw_n_desired_rep: rep_ind\n",
    "                                                      ,tr_rw : app_range.reshape(-1, 1) \n",
    "                                                      ,y_true: y_batch['desired'].reshape(-1, 1)\n",
    "                                                      ,max_batch_length: length_vec.iloc[:, 1]})\n",
    "            \n",
    "            wr.writerow([acc])\n",
    "            if (epoch % 10 == 0):\n",
    "                print('epoch number:', epoch, 'loss:', p_wise_cost, 'accuracy:', acc)\n",
    "\n",
    "\n",
    "\n",
    "        folder = './reco_rnn/pair_cost/'\n",
    "        save_path = saver.save(sess ,folder + 'accu')"
   ]
  },
  {
   "cell_type": "markdown",
   "metadata": {},
   "source": [
    "<h3>End session</h3>"
   ]
  },
  {
   "cell_type": "code",
   "execution_count": null,
   "metadata": {
    "collapsed": true
   },
   "outputs": [],
   "source": [
    "sess.close()"
   ]
  }
 ],
 "metadata": {
  "anaconda-cloud": {},
  "kernelspec": {
   "display_name": "Python 2",
   "language": "python",
   "name": "python2"
  },
  "language_info": {
   "codemirror_mode": {
    "name": "ipython",
    "version": 2
   },
   "file_extension": ".py",
   "mimetype": "text/x-python",
   "name": "python",
   "nbconvert_exporter": "python",
   "pygments_lexer": "ipython2",
   "version": "2.7.10"
  }
 },
 "nbformat": 4,
 "nbformat_minor": 1
}
